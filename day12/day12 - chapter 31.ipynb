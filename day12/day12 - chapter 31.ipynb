{
 "cells": [
  {
   "cell_type": "code",
   "execution_count": null,
   "id": "0f1d969d",
   "metadata": {},
   "outputs": [],
   "source": [
    "# 31강 시작\n",
    "# 함수에서 재귀호출(함수에서 자기 자신을 호출하는 방식) 사용하기\n",
    "def hello():\n",
    "    print('Hello, world!')\n",
    "    hello()\n",
    "\n",
    "hello()"
   ]
  },
  {
   "cell_type": "code",
   "execution_count": 1,
   "id": "cdac1209",
   "metadata": {},
   "outputs": [
    {
     "name": "stdout",
     "output_type": "stream",
     "text": [
      "Hello, world! 5\n",
      "Hello, world! 4\n",
      "Hello, world! 3\n",
      "Hello, world! 2\n",
      "Hello, world! 1\n"
     ]
    }
   ],
   "source": [
    "# 재귀호출에 종료 조건 만들기\n",
    "def hello(count):\n",
    "    if count == 0:\n",
    "        return\n",
    "    print('Hello, world!', count)\n",
    "\n",
    "    count -= 1\n",
    "    hello(count)\n",
    "hello(5)"
   ]
  },
  {
   "cell_type": "code",
   "execution_count": 3,
   "id": "526388ef",
   "metadata": {},
   "outputs": [
    {
     "name": "stdout",
     "output_type": "stream",
     "text": [
      "120\n"
     ]
    }
   ],
   "source": [
    "# 재귀호출로 팩토리얼 구하기\n",
    "# 팩토리얼 ex) 5! = 5*4*3*2*1 = 120\n",
    "def factorial(n):\n",
    "    if n == 1:\n",
    "        return 1\n",
    "    \n",
    "    return n * factorial(n-1)\n",
    "\n",
    "print(factorial(5))"
   ]
  },
  {
   "cell_type": "code",
   "execution_count": null,
   "id": "3016e3f1",
   "metadata": {},
   "outputs": [],
   "source": []
  }
 ],
 "metadata": {
  "kernelspec": {
   "display_name": "Python 3 (ipykernel)",
   "language": "python",
   "name": "python3"
  },
  "language_info": {
   "codemirror_mode": {
    "name": "ipython",
    "version": 3
   },
   "file_extension": ".py",
   "mimetype": "text/x-python",
   "name": "python",
   "nbconvert_exporter": "python",
   "pygments_lexer": "ipython3",
   "version": "3.10.11"
  }
 },
 "nbformat": 4,
 "nbformat_minor": 5
}
