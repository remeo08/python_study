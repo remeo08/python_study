{
 "cells": [
  {
   "cell_type": "code",
   "execution_count": 1,
   "id": "11ff26d4",
   "metadata": {},
   "outputs": [
    {
     "name": "stdout",
     "output_type": "stream",
     "text": [
      "10 20 30\n"
     ]
    }
   ],
   "source": [
    "# 30강 시작\n",
    "# 위치 인수: 함수에 인수를 순서대로 넣는 방식, 인수의 위치가 정해져 있다.\n",
    "print(10, 20, 30)"
   ]
  },
  {
   "cell_type": "code",
   "execution_count": 3,
   "id": "70caa771",
   "metadata": {},
   "outputs": [
    {
     "name": "stdout",
     "output_type": "stream",
     "text": [
      "10\n",
      "20\n",
      "30\n"
     ]
    }
   ],
   "source": [
    "def print_numbers(a,b,c):\n",
    "    print(a)\n",
    "    print(b)\n",
    "    print(c)\n",
    "print_numbers(10, 20, 30)"
   ]
  },
  {
   "cell_type": "code",
   "execution_count": 4,
   "id": "3dd93a91",
   "metadata": {},
   "outputs": [
    {
     "name": "stdout",
     "output_type": "stream",
     "text": [
      "10\n",
      "20\n",
      "30\n"
     ]
    }
   ],
   "source": [
    "# 애스터리스크(*) : 리스트나 튜플 앞에 * 붙이면 언패킹 되어 print_numbers(10, 20, 30) 과 동일한 동작함\n",
    "x = [10, 20, 30]\n",
    "print_numbers(*x)"
   ]
  },
  {
   "cell_type": "code",
   "execution_count": 5,
   "id": "8f6295a8",
   "metadata": {},
   "outputs": [
    {
     "name": "stdout",
     "output_type": "stream",
     "text": [
      "10\n",
      "20\n",
      "30\n"
     ]
    }
   ],
   "source": [
    "print_numbers(*[10, 20, 30])"
   ]
  },
  {
   "cell_type": "code",
   "execution_count": 7,
   "id": "ce8d48cd",
   "metadata": {},
   "outputs": [
    {
     "name": "stdout",
     "output_type": "stream",
     "text": [
      "10\n"
     ]
    }
   ],
   "source": [
    "# 가변 인수 함수 만들기\n",
    "# 가변 인수: 인수의 개수가 정해지지 않은 것, 매개변수에 * 붙이면 만들 수 있음.\n",
    "\n",
    "# def 함수이름(*매개변수):\n",
    "#    코드\n",
    "\n",
    "def print_numbers(*args):\n",
    "    for arg in args:\n",
    "        print(arg)\n",
    "        \n",
    "print_numbers(10)"
   ]
  },
  {
   "cell_type": "code",
   "execution_count": 8,
   "id": "62ebd4b5",
   "metadata": {},
   "outputs": [
    {
     "name": "stdout",
     "output_type": "stream",
     "text": [
      "10\n",
      "20\n",
      "30\n",
      "40\n"
     ]
    }
   ],
   "source": [
    "print_numbers(10, 20, 30, 40)"
   ]
  },
  {
   "cell_type": "code",
   "execution_count": 9,
   "id": "67a58673",
   "metadata": {},
   "outputs": [
    {
     "name": "stdout",
     "output_type": "stream",
     "text": [
      "10\n"
     ]
    }
   ],
   "source": [
    "x = [10]\n",
    "print_numbers(*x)"
   ]
  },
  {
   "cell_type": "code",
   "execution_count": 10,
   "id": "d443e200",
   "metadata": {},
   "outputs": [
    {
     "name": "stdout",
     "output_type": "stream",
     "text": [
      "10\n",
      "20\n",
      "30\n",
      "40\n"
     ]
    }
   ],
   "source": [
    "y = [10, 20, 30, 40]\n",
    "print_numbers(*y)"
   ]
  },
  {
   "cell_type": "code",
   "execution_count": 11,
   "id": "700088d1",
   "metadata": {},
   "outputs": [],
   "source": [
    "# 키워드 인수 사용하기\n",
    "def personal_info(name, age, address):\n",
    "    print('이름: ', name)\n",
    "    print('나이: ', age)\n",
    "    print('주소: ', address)"
   ]
  },
  {
   "cell_type": "code",
   "execution_count": 12,
   "id": "91211218",
   "metadata": {},
   "outputs": [
    {
     "name": "stdout",
     "output_type": "stream",
     "text": [
      "이름:  홍길동\n",
      "나이:  30\n",
      "주소:  서울시 용산구 이촌동\n"
     ]
    }
   ],
   "source": [
    "personal_info('홍길동', 30, '서울시 용산구 이촌동')"
   ]
  },
  {
   "cell_type": "code",
   "execution_count": 13,
   "id": "fc594789",
   "metadata": {},
   "outputs": [
    {
     "name": "stdout",
     "output_type": "stream",
     "text": [
      "이름:  홍길동\n",
      "나이:  30\n",
      "주소:  서울시 용산구 이촌동\n"
     ]
    }
   ],
   "source": [
    "# 위와 같이 쓰면 인수의 순서와 용도를 모두 기억해야 함.\n",
    "# 키워드 인수 : 인수에 키워드를 붙이는 기능(키워드=값)\n",
    "\n",
    "personal_info(name='홍길동', age=\"30\", address= \"서울시 용산구 이촌동\")"
   ]
  },
  {
   "cell_type": "code",
   "execution_count": 14,
   "id": "e3b889b2",
   "metadata": {},
   "outputs": [
    {
     "name": "stdout",
     "output_type": "stream",
     "text": [
      "이름:  홍길동\n",
      "나이:  30\n",
      "주소:  서울시 용산구 이촌동\n"
     ]
    }
   ],
   "source": [
    "# 순서 바꿔도 결과값 같다.\n",
    "personal_info(age=\"30\", address= \"서울시 용산구 이촌동\", name='홍길동')"
   ]
  },
  {
   "cell_type": "code",
   "execution_count": 15,
   "id": "39c09b7f",
   "metadata": {},
   "outputs": [
    {
     "name": "stdout",
     "output_type": "stream",
     "text": [
      "10:20:30"
     ]
    }
   ],
   "source": [
    "print(10, 20, 30, sep=':', end='')\n",
    "# sep, end도 키워드 인수"
   ]
  },
  {
   "cell_type": "code",
   "execution_count": 16,
   "id": "590ed775",
   "metadata": {},
   "outputs": [
    {
     "name": "stdout",
     "output_type": "stream",
     "text": [
      "이름:  홍길동\n",
      "나이:  30\n",
      "주소:  서울시 용산구 이촌동\n"
     ]
    }
   ],
   "source": [
    "def personal_info(name, age, address):\n",
    "    print('이름: ', name)\n",
    "    print('나이: ', age)\n",
    "    print('주소: ', address)\n",
    "    \n",
    "x = {'name': '홍길동', 'age':30, 'address': '서울시 용산구 이촌동'}\n",
    "personal_info(**x)"
   ]
  },
  {
   "cell_type": "code",
   "execution_count": 17,
   "id": "00f79652",
   "metadata": {},
   "outputs": [
    {
     "name": "stdout",
     "output_type": "stream",
     "text": [
      "이름:  홍길동\n",
      "나이:  30\n",
      "주소:  서울시 용산구 이촌동\n"
     ]
    }
   ],
   "source": [
    "personal_info(**{'name': '홍길동', 'age':30, 'address': '서울시 용산구 이촌동'})"
   ]
  },
  {
   "cell_type": "code",
   "execution_count": 19,
   "id": "153d30c2",
   "metadata": {},
   "outputs": [
    {
     "name": "stdout",
     "output_type": "stream",
     "text": [
      "이름:  name\n",
      "나이:  age\n",
      "주소:  address\n"
     ]
    }
   ],
   "source": [
    "# 딕셔너리에서 * 한 개: key만 사용\n",
    "# 딕셔너리에서 * 두 개: key-value 둘 다 사용\n",
    "x = {'name': '홍길동', 'age':30, 'address': '서울시 용산구 이촌동'}\n",
    "personal_info(*x)"
   ]
  },
  {
   "cell_type": "code",
   "execution_count": 21,
   "id": "3b0f95f5",
   "metadata": {},
   "outputs": [
    {
     "name": "stdout",
     "output_type": "stream",
     "text": [
      "이름:  홍길동\n",
      "나이:  30\n",
      "주소:  서울시 용산구 이촌동\n"
     ]
    }
   ],
   "source": [
    "x= {'name': '홍길동', 'age':30, 'address': '서울시 용산구 이촌동'}\n",
    "personal_info(**x)"
   ]
  },
  {
   "cell_type": "code",
   "execution_count": 27,
   "id": "dec1ce6e",
   "metadata": {},
   "outputs": [],
   "source": [
    "# 키워드 인수를 사용하는 가변 인수 함수\n",
    "# def 함수이름(**매개변수):\n",
    "#    코드\n",
    "\n",
    "def personal_info(**kwargs):\n",
    "    for kw, arg in kwargs.items():\n",
    "        print(kw, ': ', arg, sep='')"
   ]
  },
  {
   "cell_type": "code",
   "execution_count": 26,
   "id": "1420a907",
   "metadata": {},
   "outputs": [
    {
     "name": "stdout",
     "output_type": "stream",
     "text": [
      "name: 홍길동\n"
     ]
    }
   ],
   "source": [
    "personal_info(name='홍길동')"
   ]
  },
  {
   "cell_type": "code",
   "execution_count": 28,
   "id": "bd518373",
   "metadata": {},
   "outputs": [
    {
     "name": "stdout",
     "output_type": "stream",
     "text": [
      "name: 홍ㅇㅇ\n",
      "age: 30\n"
     ]
    }
   ],
   "source": [
    "personal_info(name= '홍ㅇㅇ', age = '30')"
   ]
  },
  {
   "cell_type": "code",
   "execution_count": 29,
   "id": "0ca745b8",
   "metadata": {},
   "outputs": [
    {
     "name": "stdout",
     "output_type": "stream",
     "text": [
      "name: 홍나니\n"
     ]
    }
   ],
   "source": [
    "x = {'name': '홍나니'}\n",
    "personal_info(**x)"
   ]
  },
  {
   "cell_type": "code",
   "execution_count": 30,
   "id": "5a2da060",
   "metadata": {},
   "outputs": [],
   "source": [
    "def personal_info(**kwargs):\n",
    "    if 'name' in kwargs:\n",
    "        print('이름: ', kwargs['name'])\n",
    "    if 'age' in kwargs:\n",
    "        print('나이: ', kwargs['age'])\n",
    "    if 'address' in kwargs:\n",
    "        print('주소: ',kwargs['address'])"
   ]
  },
  {
   "cell_type": "code",
   "execution_count": 31,
   "id": "6ed148b9",
   "metadata": {},
   "outputs": [],
   "source": [
    "# 매개변수에 초깃값 지정\n",
    "# def 함수이름(매개변수 = 값)\n",
    "#     코드\n",
    "def personal_info(name, age, address='비공개'):\n",
    "    print('이름: ', name)\n",
    "    print('나이: ', age)\n",
    "    print('주소: ', address)"
   ]
  },
  {
   "cell_type": "code",
   "execution_count": 32,
   "id": "f35b311a",
   "metadata": {},
   "outputs": [
    {
     "name": "stdout",
     "output_type": "stream",
     "text": [
      "이름:  홍길동\n",
      "나이:  30\n",
      "주소:  비공개\n"
     ]
    }
   ],
   "source": [
    "# address는 초깃값이 있어서 address 부분 비워두고 호출 가능\n",
    "personal_info('홍길동', 30)"
   ]
  },
  {
   "cell_type": "code",
   "execution_count": 34,
   "id": "7db14259",
   "metadata": {},
   "outputs": [
    {
     "ename": "SyntaxError",
     "evalue": "non-default argument follows default argument (352893349.py, line 3)",
     "output_type": "error",
     "traceback": [
      "\u001b[1;36m  Cell \u001b[1;32mIn[34], line 3\u001b[1;36m\u001b[0m\n\u001b[1;33m    def personal_info(name, age='적지 않음', address):\u001b[0m\n\u001b[1;37m                                         ^\u001b[0m\n\u001b[1;31mSyntaxError\u001b[0m\u001b[1;31m:\u001b[0m non-default argument follows default argument\n"
     ]
    }
   ],
   "source": [
    "# 단, 초깃값이 지정된 매개변수 다음에 초깃값 없는 매개변수가 올 수는 없다.\n",
    "\n",
    "def personal_info(name, age='적지 않음', address):\n",
    "    print('이름: ', name)\n",
    "    print('나이: ', age)\n",
    "    print('주소: ', address)\n",
    "    \n",
    "personal_info('홍길이', 30)  # 이라고 호출했을 때, 30이 어디에 포함되는지 모르기 때문"
   ]
  },
  {
   "cell_type": "code",
   "execution_count": 35,
   "id": "77f9334f",
   "metadata": {},
   "outputs": [
    {
     "name": "stdout",
     "output_type": "stream",
     "text": [
      "높은 점수: 100\n"
     ]
    }
   ],
   "source": [
    "korean, english, mathematics, science = 100, 86, 81, 91\n",
    "def get_max_score(*args):\n",
    "    return max(args)\n",
    "max_score = get_max_score(korean, english, mathematics, science)\n",
    "print('높은 점수:', max_score)"
   ]
  },
  {
   "cell_type": "code",
   "execution_count": null,
   "id": "640459a3",
   "metadata": {},
   "outputs": [],
   "source": []
  }
 ],
 "metadata": {
  "kernelspec": {
   "display_name": "Python 3 (ipykernel)",
   "language": "python",
   "name": "python3"
  },
  "language_info": {
   "codemirror_mode": {
    "name": "ipython",
    "version": 3
   },
   "file_extension": ".py",
   "mimetype": "text/x-python",
   "name": "python",
   "nbconvert_exporter": "python",
   "pygments_lexer": "ipython3",
   "version": "3.10.9"
  }
 },
 "nbformat": 4,
 "nbformat_minor": 5
}
