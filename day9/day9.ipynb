{
 "cells": [
  {
   "cell_type": "code",
   "execution_count": 1,
   "id": "a89a5015",
   "metadata": {},
   "outputs": [
    {
     "name": "stdout",
     "output_type": "stream",
     "text": [
      "10 20\n",
      "30 40\n",
      "50 60\n"
     ]
    }
   ],
   "source": [
    "# 23,2\n",
    "a = [[10, 20], [30,40], [50,60]]\n",
    "for x,y in a:\n",
    "    print(x,y)"
   ]
  },
  {
   "cell_type": "code",
   "execution_count": 2,
   "id": "9c342584",
   "metadata": {},
   "outputs": [
    {
     "name": "stdout",
     "output_type": "stream",
     "text": [
      "[10, 20] [30, 40] [50, 60] \n",
      "[10, 20] [30, 40] [50, 60] \n",
      "[10, 20] [30, 40] [50, 60] \n"
     ]
    }
   ],
   "source": [
    "a = [[10, 20], [30,40], [50,60]]\n",
    "for i in a:\n",
    "    for j in a:\n",
    "        print(j, end=' ')\n",
    "    print()"
   ]
  },
  {
   "cell_type": "code",
   "execution_count": 3,
   "id": "4f05bc8b",
   "metadata": {},
   "outputs": [
    {
     "name": "stdout",
     "output_type": "stream",
     "text": [
      "10 20 \n",
      "30 40 \n",
      "50 60 \n"
     ]
    }
   ],
   "source": [
    "a = [[10, 20], [30,40], [50,60]]\n",
    "\n",
    " # len(a)는 리스트 안의 리스트의 개수. 여기선 3.\n",
    "\n",
    "for i in range(len(a)):    # 세로 크기\n",
    "    for j in range(len(a[i])):      # 가로 크기\n",
    "        print(a[i][j], end= ' ')\n",
    "    print()"
   ]
  },
  {
   "cell_type": "code",
   "execution_count": 4,
   "id": "ee2a9b64",
   "metadata": {},
   "outputs": [
    {
     "name": "stdout",
     "output_type": "stream",
     "text": [
      "10 20 \n",
      "30 40 \n",
      "50 60 \n"
     ]
    }
   ],
   "source": [
    "# while 반복문 2번 사용하기\n",
    "\n",
    "a = [[10, 20], [30,40], [50,60]]\n",
    "i = 0\n",
    "while i < len(a):\n",
    "    j = 0\n",
    "    while j < len(a[i]):\n",
    "        print(a[i][j], end=' ')\n",
    "        j += 1\n",
    "    print()\n",
    "    i += 1"
   ]
  },
  {
   "cell_type": "code",
   "execution_count": 5,
   "id": "c66b065a",
   "metadata": {},
   "outputs": [
    {
     "name": "stdout",
     "output_type": "stream",
     "text": [
      "[0, 0, 0, 0, 0, 0, 0, 0, 0, 0]\n"
     ]
    }
   ],
   "source": [
    "# for 문으로 1차원 리스트 만들기\n",
    "\n",
    "a = []\n",
    "for i in range(10):\n",
    "    a.append(0)\n",
    "print(a)"
   ]
  },
  {
   "cell_type": "code",
   "execution_count": 6,
   "id": "074c206a",
   "metadata": {},
   "outputs": [
    {
     "data": {
      "text/plain": [
       "[[10, 20], [30, 40], [50, 60]]"
      ]
     },
     "execution_count": 6,
     "metadata": {},
     "output_type": "execute_result"
    }
   ],
   "source": [
    "# 2차원 리스트 복사하기\n",
    "# deepcopy\n",
    "\n",
    "a = [[10, 20], [30,40], [50,60]]\n",
    "import copy\n",
    "b = copy.deepcopy(a)\n",
    "b[0][0] = 500\n",
    "a"
   ]
  },
  {
   "cell_type": "code",
   "execution_count": 7,
   "id": "19a16e85",
   "metadata": {},
   "outputs": [
    {
     "data": {
      "text/plain": [
       "[[500, 20], [30, 40], [50, 60]]"
      ]
     },
     "execution_count": 7,
     "metadata": {},
     "output_type": "execute_result"
    }
   ],
   "source": [
    "b"
   ]
  },
  {
   "cell_type": "code",
   "execution_count": 8,
   "id": "4d782fdf",
   "metadata": {},
   "outputs": [
    {
     "data": {
      "text/plain": [
       "'Hello, Python!'"
      ]
     },
     "execution_count": 8,
     "metadata": {},
     "output_type": "execute_result"
    }
   ],
   "source": [
    "# 24강 문자열 응용\n",
    "# 문자열 바꾸기\n",
    "# replace('바꿀문자열', '새문자열')\n",
    "\n",
    "'Hello, world!'.replace('world', 'Python')"
   ]
  },
  {
   "cell_type": "code",
   "execution_count": 11,
   "id": "52553424",
   "metadata": {},
   "outputs": [
    {
     "data": {
      "text/plain": [
       "'Hello, Python'"
      ]
     },
     "execution_count": 11,
     "metadata": {},
     "output_type": "execute_result"
    }
   ],
   "source": [
    "# 바꾼 문자열 유지\n",
    "# 변수를 replace해서 재할당해주기\n",
    "\n",
    "s = 'Hello, world'\n",
    "s = s.replace('world', 'Python')\n",
    "s"
   ]
  },
  {
   "cell_type": "code",
   "execution_count": 12,
   "id": "ca6198c1",
   "metadata": {},
   "outputs": [
    {
     "data": {
      "text/plain": [
       "'1ppl2'"
      ]
     },
     "execution_count": 12,
     "metadata": {},
     "output_type": "execute_result"
    }
   ],
   "source": [
    "# 문지 비꾸기\n",
    "# str.maketrans('바꿀문자', '새문자')\n",
    "# 그다음 translate(테이블)\n",
    "\n",
    "table = str.maketrans('aeiou', '12345')\n",
    "'apple'.translate(table)"
   ]
  },
  {
   "cell_type": "code",
   "execution_count": 15,
   "id": "a72f24d3",
   "metadata": {},
   "outputs": [
    {
     "data": {
      "text/plain": [
       "['apple', 'pear', 'grape', 'pineapple', 'orange)']"
      ]
     },
     "execution_count": 15,
     "metadata": {},
     "output_type": "execute_result"
    }
   ],
   "source": [
    "# 문자열 분리\n",
    "# split() 공백 기준\n",
    "' apple pear grape  pineapple orange)'.split()"
   ]
  },
  {
   "cell_type": "code",
   "execution_count": 16,
   "id": "6a0b1dd3",
   "metadata": {},
   "outputs": [],
   "source": [
    "a = 'apple, pear, grape, pineapple orange)'.split(',')"
   ]
  },
  {
   "cell_type": "code",
   "execution_count": 19,
   "id": "5ecbb1d9",
   "metadata": {},
   "outputs": [
    {
     "data": {
      "text/plain": [
       "'apple pear grape pineapple orange'"
      ]
     },
     "execution_count": 19,
     "metadata": {},
     "output_type": "execute_result"
    }
   ],
   "source": [
    "# 구분자 문자열과 문자열 리스트\n",
    "' '.join(['apple', 'pear', 'grape', 'pineapple', 'orange'])"
   ]
  },
  {
   "cell_type": "code",
   "execution_count": 20,
   "id": "09f19015",
   "metadata": {},
   "outputs": [
    {
     "data": {
      "text/plain": [
       "'apple - pear - grape - pineapple - orange'"
      ]
     },
     "execution_count": 20,
     "metadata": {},
     "output_type": "execute_result"
    }
   ],
   "source": [
    "' - '.join(['apple', 'pear', 'grape', 'pineapple', 'orange'])"
   ]
  },
  {
   "cell_type": "code",
   "execution_count": 21,
   "id": "6661cf1d",
   "metadata": {},
   "outputs": [
    {
     "data": {
      "text/plain": [
       "'PYTHON'"
      ]
     },
     "execution_count": 21,
     "metadata": {},
     "output_type": "execute_result"
    }
   ],
   "source": [
    "# 소문자를 대문자로\n",
    "# upper\n",
    "'python'.upper()"
   ]
  },
  {
   "cell_type": "code",
   "execution_count": 23,
   "id": "951524a8",
   "metadata": {},
   "outputs": [
    {
     "data": {
      "text/plain": [
       "'python'"
      ]
     },
     "execution_count": 23,
     "metadata": {},
     "output_type": "execute_result"
    }
   ],
   "source": [
    "# 대문자를 소문자로\n",
    "# lower\n",
    "'PYTHON'.lower()"
   ]
  },
  {
   "cell_type": "code",
   "execution_count": 26,
   "id": "dbfc3760",
   "metadata": {},
   "outputs": [
    {
     "data": {
      "text/plain": [
       "'Python   '"
      ]
     },
     "execution_count": 26,
     "metadata": {},
     "output_type": "execute_result"
    }
   ],
   "source": [
    "# 공백 삭제하기\n",
    "# lstrip, rstrip, strip\n",
    "'   Python   '.lstrip()"
   ]
  },
  {
   "cell_type": "code",
   "execution_count": 28,
   "id": "6ce6db0c",
   "metadata": {},
   "outputs": [
    {
     "data": {
      "text/plain": [
       "'   Python'"
      ]
     },
     "execution_count": 28,
     "metadata": {},
     "output_type": "execute_result"
    }
   ],
   "source": [
    "'   Python   '.rstrip()"
   ]
  },
  {
   "cell_type": "code",
   "execution_count": 29,
   "id": "3d288100",
   "metadata": {},
   "outputs": [
    {
     "data": {
      "text/plain": [
       "'Python'"
      ]
     },
     "execution_count": 29,
     "metadata": {},
     "output_type": "execute_result"
    }
   ],
   "source": [
    "'   Python   '.strip()"
   ]
  },
  {
   "cell_type": "code",
   "execution_count": 30,
   "id": "85781205",
   "metadata": {},
   "outputs": [
    {
     "data": {
      "text/plain": [
       "' python.'"
      ]
     },
     "execution_count": 30,
     "metadata": {},
     "output_type": "execute_result"
    }
   ],
   "source": [
    "# 왼쪽의 특정 문자 삭제하기\n",
    "', python.'.lstrip(',.')"
   ]
  },
  {
   "cell_type": "code",
   "execution_count": 31,
   "id": "944769ee",
   "metadata": {},
   "outputs": [
    {
     "data": {
      "text/plain": [
       "', python'"
      ]
     },
     "execution_count": 31,
     "metadata": {},
     "output_type": "execute_result"
    }
   ],
   "source": [
    "# 오른쪽의 특정 문자 삭제하기\n",
    "', python.'.rstrip(',.')"
   ]
  },
  {
   "cell_type": "code",
   "execution_count": 33,
   "id": "bb930252",
   "metadata": {},
   "outputs": [
    {
     "data": {
      "text/plain": [
       "'python'"
      ]
     },
     "execution_count": 33,
     "metadata": {},
     "output_type": "execute_result"
    }
   ],
   "source": [
    "# 양쪽의 특정 문자 삭제하기\n",
    "', python.'.strip(', .')"
   ]
  },
  {
   "cell_type": "code",
   "execution_count": 36,
   "id": "d0c64073",
   "metadata": {},
   "outputs": [
    {
     "data": {
      "text/plain": [
       "'python    '"
      ]
     },
     "execution_count": 36,
     "metadata": {},
     "output_type": "execute_result"
    }
   ],
   "source": [
    "# 문자열 왼쪽 정렬\n",
    "'python'.ljust(10)"
   ]
  },
  {
   "cell_type": "code",
   "execution_count": 35,
   "id": "9f5e8c0c",
   "metadata": {},
   "outputs": [
    {
     "data": {
      "text/plain": [
       "'    python'"
      ]
     },
     "execution_count": 35,
     "metadata": {},
     "output_type": "execute_result"
    }
   ],
   "source": [
    "# 문자열 오른쪽 정렬\n",
    "'python'.rjust(10)"
   ]
  },
  {
   "cell_type": "code",
   "execution_count": 37,
   "id": "cb5aaa61",
   "metadata": {},
   "outputs": [
    {
     "data": {
      "text/plain": [
       "'  python  '"
      ]
     },
     "execution_count": 37,
     "metadata": {},
     "output_type": "execute_result"
    }
   ],
   "source": [
    "# 문자열 가운데 정렬\n",
    "'python'.center(10)"
   ]
  },
  {
   "cell_type": "code",
   "execution_count": 38,
   "id": "2f853a60",
   "metadata": {},
   "outputs": [
    {
     "data": {
      "text/plain": [
       "'   python  '"
      ]
     },
     "execution_count": 38,
     "metadata": {},
     "output_type": "execute_result"
    }
   ],
   "source": [
    "'python'.center(11)"
   ]
  },
  {
   "cell_type": "code",
   "execution_count": 39,
   "id": "ee277f57",
   "metadata": {},
   "outputs": [
    {
     "data": {
      "text/plain": [
       "'    PYTHON'"
      ]
     },
     "execution_count": 39,
     "metadata": {},
     "output_type": "execute_result"
    }
   ],
   "source": [
    "# 메서드 체이닝 : 메서드를 계속 연결해서 호출\n",
    "'python'.rjust(10).upper()"
   ]
  },
  {
   "cell_type": "code",
   "execution_count": 41,
   "id": "454decd2",
   "metadata": {},
   "outputs": [
    {
     "data": {
      "text/plain": [
       "'0035'"
      ]
     },
     "execution_count": 41,
     "metadata": {},
     "output_type": "execute_result"
    }
   ],
   "source": [
    "# 문자열 왼쪽에 0 채우기\n",
    "# zfill(길이)  : 지정된 길이에 맞춰 문자열 왼쪽에 0(zero)을 채움\n",
    "'35'.zfill(4)"
   ]
  },
  {
   "cell_type": "code",
   "execution_count": 43,
   "id": "07d96c84",
   "metadata": {},
   "outputs": [
    {
     "data": {
      "text/plain": [
       "2"
      ]
     },
     "execution_count": 43,
     "metadata": {},
     "output_type": "execute_result"
    }
   ],
   "source": [
    "# 문자열 위치 찾기 1\n",
    "# find('찾을 문자열')  => 인덱스 반환/ 없으면 -1 반환, 여러개면 처음 하나만 반환.\n",
    "\n",
    "'apple pineapple'.find('pl')"
   ]
  },
  {
   "cell_type": "code",
   "execution_count": 44,
   "id": "6abd0e55",
   "metadata": {},
   "outputs": [
    {
     "data": {
      "text/plain": [
       "-1"
      ]
     },
     "execution_count": 44,
     "metadata": {},
     "output_type": "execute_result"
    }
   ],
   "source": [
    "'apple pineapple'.find('xy')"
   ]
  },
  {
   "cell_type": "code",
   "execution_count": 47,
   "id": "bbc94e7c",
   "metadata": {},
   "outputs": [
    {
     "data": {
      "text/plain": [
       "12"
      ]
     },
     "execution_count": 47,
     "metadata": {},
     "output_type": "execute_result"
    }
   ],
   "source": [
    "# 오른쪽에서부터 문자열 위치 찾기\n",
    "# rfind('찾을 문자열')\n",
    "'apple pineapple'.rfind('pl')"
   ]
  },
  {
   "cell_type": "code",
   "execution_count": 48,
   "id": "12a34440",
   "metadata": {},
   "outputs": [
    {
     "data": {
      "text/plain": [
       "2"
      ]
     },
     "execution_count": 48,
     "metadata": {},
     "output_type": "execute_result"
    }
   ],
   "source": [
    "# 문자열 위치 찾기 2\n",
    "# index('찾을 문자열')\n",
    "'apple pineapple'.index('pl')"
   ]
  },
  {
   "cell_type": "code",
   "execution_count": 49,
   "id": "223c7a30",
   "metadata": {},
   "outputs": [
    {
     "data": {
      "text/plain": [
       "12"
      ]
     },
     "execution_count": 49,
     "metadata": {},
     "output_type": "execute_result"
    }
   ],
   "source": [
    "'apple pineapple'.rindex('pl')"
   ]
  },
  {
   "cell_type": "code",
   "execution_count": 50,
   "id": "9ceb798a",
   "metadata": {},
   "outputs": [
    {
     "data": {
      "text/plain": [
       "2"
      ]
     },
     "execution_count": 50,
     "metadata": {},
     "output_type": "execute_result"
    }
   ],
   "source": [
    "# 문자열 개수 세기\n",
    "# count('문자열')\n",
    "'apple pineapple'.count('pl')"
   ]
  },
  {
   "cell_type": "code",
   "execution_count": 51,
   "id": "953a98d4",
   "metadata": {},
   "outputs": [
    {
     "data": {
      "text/plain": [
       "'I am james.'"
      ]
     },
     "execution_count": 51,
     "metadata": {},
     "output_type": "execute_result"
    }
   ],
   "source": [
    "# 문자열 서식 지정자(format specifier)\n",
    "# format 메서드로 문자열 만드는 문자열 포메팅(string formatting)\n",
    "\n",
    "# 서식 지정자로 문자열 넣기\n",
    "# '%s'% '문자열'\n",
    "\n",
    "'I am %s.' % 'james'    # %s 안에 'james'"
   ]
  },
  {
   "cell_type": "code",
   "execution_count": 52,
   "id": "f07bcd51",
   "metadata": {},
   "outputs": [
    {
     "data": {
      "text/plain": [
       "'I am maria.'"
      ]
     },
     "execution_count": 52,
     "metadata": {},
     "output_type": "execute_result"
    }
   ],
   "source": [
    "# 서식지정자는 % 로 시작, 자료형 뜻하는 문자 붙음.\n",
    "name = 'maria'\n",
    "'I am %s.' % name"
   ]
  },
  {
   "cell_type": "code",
   "execution_count": 54,
   "id": "25c408cc",
   "metadata": {},
   "outputs": [
    {
     "data": {
      "text/plain": [
       "'I am 20 years old'"
      ]
     },
     "execution_count": 54,
     "metadata": {},
     "output_type": "execute_result"
    }
   ],
   "source": [
    "# 서식 지정자로 숫자 넣기\n",
    "# '%d' % 숫자\n",
    "# %d decimal integer : 10 진수\n",
    "\n",
    "'I am %d years old' % 20"
   ]
  },
  {
   "cell_type": "code",
   "execution_count": 55,
   "id": "14312741",
   "metadata": {},
   "outputs": [
    {
     "data": {
      "text/plain": [
       "'2.300000'"
      ]
     },
     "execution_count": 55,
     "metadata": {},
     "output_type": "execute_result"
    }
   ],
   "source": [
    "# '%f' % 숫자\n",
    "'%f' % 2.3"
   ]
  },
  {
   "cell_type": "code",
   "execution_count": 57,
   "id": "5215e043",
   "metadata": {},
   "outputs": [
    {
     "data": {
      "text/plain": [
       "'2.30'"
      ]
     },
     "execution_count": 57,
     "metadata": {},
     "output_type": "execute_result"
    }
   ],
   "source": [
    "# 소수점 이하 자릿수 지정\n",
    "'%.2f' % 2.3     # %.2f 소수점 이하 두 자리"
   ]
  },
  {
   "cell_type": "code",
   "execution_count": 58,
   "id": "27348e65",
   "metadata": {},
   "outputs": [
    {
     "data": {
      "text/plain": [
       "'    python'"
      ]
     },
     "execution_count": 58,
     "metadata": {},
     "output_type": "execute_result"
    }
   ],
   "source": [
    "# 서식 지정자로 문자열 정렬\n",
    "'%10s' % 'python'"
   ]
  },
  {
   "cell_type": "code",
   "execution_count": 59,
   "id": "221eada3",
   "metadata": {},
   "outputs": [
    {
     "data": {
      "text/plain": [
       "'      2.30'"
      ]
     },
     "execution_count": 59,
     "metadata": {},
     "output_type": "execute_result"
    }
   ],
   "source": [
    "# 자릿수가 다른 숫자 출력\n",
    "'%10.2f' % 2.3"
   ]
  },
  {
   "cell_type": "code",
   "execution_count": 60,
   "id": "99280ed7",
   "metadata": {},
   "outputs": [
    {
     "data": {
      "text/plain": [
       "'   2000.30'"
      ]
     },
     "execution_count": 60,
     "metadata": {},
     "output_type": "execute_result"
    }
   ],
   "source": [
    "# %길이.자릿수f\n",
    "'%10.2f' % 2000.3"
   ]
  },
  {
   "cell_type": "code",
   "execution_count": 62,
   "id": "5adf2b00",
   "metadata": {},
   "outputs": [
    {
     "data": {
      "text/plain": [
       "'python    '"
      ]
     },
     "execution_count": 62,
     "metadata": {},
     "output_type": "execute_result"
    }
   ],
   "source": [
    "'%-10s' % 'python'"
   ]
  },
  {
   "cell_type": "code",
   "execution_count": 63,
   "id": "67241705",
   "metadata": {},
   "outputs": [
    {
     "data": {
      "text/plain": [
       "'Today is 3 April.'"
      ]
     },
     "execution_count": 63,
     "metadata": {},
     "output_type": "execute_result"
    }
   ],
   "source": [
    "# 서식 지정자로 문자열 안에 값 여러 개 넣기\n",
    "# 서식 지정자 여러 개, 값도 두 개\n",
    "'Today is %d %s.' % (3, 'April')"
   ]
  },
  {
   "cell_type": "code",
   "execution_count": 64,
   "id": "6eda95eb",
   "metadata": {},
   "outputs": [
    {
     "data": {
      "text/plain": [
       "'Hello,world'"
      ]
     },
     "execution_count": 64,
     "metadata": {},
     "output_type": "execute_result"
    }
   ],
   "source": [
    "# format 메서드 사용하기\n",
    "# 문자열 포매팅\n",
    "# '{인덱스}'.format(값)\n",
    "'Hello,{0}'.format('world')"
   ]
  },
  {
   "cell_type": "code",
   "execution_count": 65,
   "id": "b8a199f6",
   "metadata": {},
   "outputs": [
    {
     "data": {
      "text/plain": [
       "'Hello,100'"
      ]
     },
     "execution_count": 65,
     "metadata": {},
     "output_type": "execute_result"
    }
   ],
   "source": [
    "'Hello,{0}'.format(100)"
   ]
  },
  {
   "cell_type": "code",
   "execution_count": 66,
   "id": "62c16c07",
   "metadata": {},
   "outputs": [
    {
     "data": {
      "text/plain": [
       "'Hello, Python 3.6 script'"
      ]
     },
     "execution_count": 66,
     "metadata": {},
     "output_type": "execute_result"
    }
   ],
   "source": [
    "# format 메서드로 값 여러 개 넣기\n",
    "'Hello, {0} {2} {1}'.format('Python', \"script\", 3.6)"
   ]
  },
  {
   "cell_type": "code",
   "execution_count": 68,
   "id": "0a93e4f3",
   "metadata": {},
   "outputs": [
    {
     "data": {
      "text/plain": [
       "'Python Python Script Script'"
      ]
     },
     "execution_count": 68,
     "metadata": {},
     "output_type": "execute_result"
    }
   ],
   "source": [
    "# format 메서드로 같은 값 여러 번 넣기\n",
    "'{0} {0} {1} {1}'.format('Python', 'Script')"
   ]
  },
  {
   "cell_type": "code",
   "execution_count": 69,
   "id": "6c6d51a3",
   "metadata": {},
   "outputs": [
    {
     "data": {
      "text/plain": [
       "'Hello, Python Script 3.6'"
      ]
     },
     "execution_count": 69,
     "metadata": {},
     "output_type": "execute_result"
    }
   ],
   "source": [
    "'Hello, {} {} {}'.format('Python', 'Script', 3.6)"
   ]
  },
  {
   "cell_type": "code",
   "execution_count": 70,
   "id": "2cd9bd94",
   "metadata": {},
   "outputs": [
    {
     "data": {
      "text/plain": [
       "'Hello, Python 3.6'"
      ]
     },
     "execution_count": 70,
     "metadata": {},
     "output_type": "execute_result"
    }
   ],
   "source": [
    "# format 메서드 인덱스 대신 이름 지정하기\n",
    "'Hello, {language} {version}'.format(language='Python', version=3.6)"
   ]
  },
  {
   "cell_type": "code",
   "execution_count": 71,
   "id": "dbb1062c",
   "metadata": {},
   "outputs": [
    {
     "data": {
      "text/plain": [
       "'Hello, Python 3.6'"
      ]
     },
     "execution_count": 71,
     "metadata": {},
     "output_type": "execute_result"
    }
   ],
   "source": [
    "language='Python'\n",
    "version=3.6\n",
    "f'Hello, {language} {version}'"
   ]
  },
  {
   "cell_type": "code",
   "execution_count": 72,
   "id": "cd6d6d58",
   "metadata": {},
   "outputs": [
    {
     "data": {
      "text/plain": [
       "'python    '"
      ]
     },
     "execution_count": 72,
     "metadata": {},
     "output_type": "execute_result"
    }
   ],
   "source": [
    "# format 메서드로 문자열 정렬\n",
    "# '{인덱스:<길이}',format(값)\n",
    "\n",
    "'{0:<10}'.format('python')\n",
    "# 부등호 방향. 왼쪽 가리키므로 지정 길이(10)로 만들고 왼쪽 정렬, 0채움"
   ]
  },
  {
   "cell_type": "code",
   "execution_count": 73,
   "id": "936ccc74",
   "metadata": {},
   "outputs": [
    {
     "data": {
      "text/plain": [
       "'    python'"
      ]
     },
     "execution_count": 73,
     "metadata": {},
     "output_type": "execute_result"
    }
   ],
   "source": [
    "# '{0:>길이}'.format(값)\n",
    "'{0:>10}'.format('python')"
   ]
  },
  {
   "cell_type": "code",
   "execution_count": 74,
   "id": "6e3a0569",
   "metadata": {},
   "outputs": [
    {
     "data": {
      "text/plain": [
       "'    python'"
      ]
     },
     "execution_count": 74,
     "metadata": {},
     "output_type": "execute_result"
    }
   ],
   "source": [
    "# 인덱스 사용 안하면 :(콜론)과 정렬 방법만 지정해도 됨.\n",
    "'{:>10}'.format('python')"
   ]
  },
  {
   "cell_type": "code",
   "execution_count": null,
   "id": "98574354",
   "metadata": {},
   "outputs": [],
   "source": [
    "# 숫자 개수 맞추기\n",
    "# '%0개수d' % 숫자\n",
    "''"
   ]
  }
 ],
 "metadata": {
  "kernelspec": {
   "display_name": "Python 3 (ipykernel)",
   "language": "python",
   "name": "python3"
  },
  "language_info": {
   "codemirror_mode": {
    "name": "ipython",
    "version": 3
   },
   "file_extension": ".py",
   "mimetype": "text/x-python",
   "name": "python",
   "nbconvert_exporter": "python",
   "pygments_lexer": "ipython3",
   "version": "3.10.9"
  }
 },
 "nbformat": 4,
 "nbformat_minor": 5
}
