{
 "cells": [
  {
   "cell_type": "code",
   "execution_count": 1,
   "id": "a2d1fcfe",
   "metadata": {},
   "outputs": [
    {
     "data": {
      "text/plain": [
       "38"
      ]
     },
     "execution_count": 1,
     "metadata": {},
     "output_type": "execute_result"
    }
   ],
   "source": [
    "# 인덱스로 요소 출력하기\n",
    "a =[38, 21, 53, 62, 19]\n",
    "a[0]"
   ]
  },
  {
   "cell_type": "code",
   "execution_count": 2,
   "id": "c31ba031",
   "metadata": {},
   "outputs": [
    {
     "data": {
      "text/plain": [
       "53"
      ]
     },
     "execution_count": 2,
     "metadata": {},
     "output_type": "execute_result"
    }
   ],
   "source": [
    "a[2]"
   ]
  },
  {
   "cell_type": "code",
   "execution_count": 4,
   "id": "4024785b",
   "metadata": {},
   "outputs": [
    {
     "data": {
      "text/plain": [
       "(38, 21, 53, 62, 19)"
      ]
     },
     "execution_count": 4,
     "metadata": {},
     "output_type": "execute_result"
    }
   ],
   "source": [
    "b=(38, 21, 53, 62, 19)\n",
    "b"
   ]
  },
  {
   "cell_type": "code",
   "execution_count": 6,
   "id": "9cd8599a",
   "metadata": {},
   "outputs": [
    {
     "data": {
      "text/plain": [
       "4"
      ]
     },
     "execution_count": 6,
     "metadata": {},
     "output_type": "execute_result"
    }
   ],
   "source": [
    "r = range(0, 10, 2)\n",
    "r[2]"
   ]
  },
  {
   "cell_type": "code",
   "execution_count": 7,
   "id": "e4cc139a",
   "metadata": {},
   "outputs": [
    {
     "data": {
      "text/plain": [
       "'w'"
      ]
     },
     "execution_count": 7,
     "metadata": {},
     "output_type": "execute_result"
    }
   ],
   "source": [
    "hello = 'Hello, world!'\n",
    "hello[7]"
   ]
  },
  {
   "cell_type": "code",
   "execution_count": 8,
   "id": "e496e5d9",
   "metadata": {},
   "outputs": [
    {
     "data": {
      "text/plain": [
       "21"
      ]
     },
     "execution_count": 8,
     "metadata": {},
     "output_type": "execute_result"
    }
   ],
   "source": [
    "# 시퀀스 객체에서 [] 사용 ==  __getitem__ 메서드를 호출하여 요소를 가져오는 것\n",
    "a =[38, 21, 53, 62, 19]\n",
    "a.__getitem__(1)"
   ]
  },
  {
   "cell_type": "code",
   "execution_count": 9,
   "id": "31042a22",
   "metadata": {},
   "outputs": [
    {
     "data": {
      "text/plain": [
       "19"
      ]
     },
     "execution_count": 9,
     "metadata": {},
     "output_type": "execute_result"
    }
   ],
   "source": [
    "# 음수 인덱스 지정 = 뒤에서부터 n번째  (리스트, 튜플, range, 문자열 다 가능)\n",
    "a =[38, 21, 53, 62, 19]\n",
    "a[-1]"
   ]
  },
  {
   "cell_type": "code",
   "execution_count": 10,
   "id": "63912a3b",
   "metadata": {},
   "outputs": [
    {
     "data": {
      "text/plain": [
       "53"
      ]
     },
     "execution_count": 10,
     "metadata": {},
     "output_type": "execute_result"
    }
   ],
   "source": [
    "b=(38, 21, 53, 62, 190)\n",
    "b[-3]"
   ]
  },
  {
   "cell_type": "code",
   "execution_count": 11,
   "id": "d98c1857",
   "metadata": {},
   "outputs": [
    {
     "data": {
      "text/plain": [
       "19"
      ]
     },
     "execution_count": 11,
     "metadata": {},
     "output_type": "execute_result"
    }
   ],
   "source": [
    "# a list의 마지막 요소 출력\n",
    "a =[38, 21, 53, 62, 19]\n",
    "a[len(a)-1]"
   ]
  },
  {
   "cell_type": "code",
   "execution_count": 12,
   "id": "41d59d35",
   "metadata": {},
   "outputs": [
    {
     "data": {
      "text/plain": [
       "[38, 21, 53, 62, 19]"
      ]
     },
     "execution_count": 12,
     "metadata": {},
     "output_type": "execute_result"
    }
   ],
   "source": [
    "# 요소에 값 할당하기 --- 튜플은 요소 변경 불가하므로 해당X\n",
    "a = [0, 0, 0, 0, 0]\n",
    "a[0] = 38\n",
    "a[1] = 21\n",
    "a[2] = 53\n",
    "a[3] = 62\n",
    "a[4] = 19\n",
    "a"
   ]
  },
  {
   "cell_type": "code",
   "execution_count": 13,
   "id": "617be8f2",
   "metadata": {},
   "outputs": [
    {
     "data": {
      "text/plain": [
       "38"
      ]
     },
     "execution_count": 13,
     "metadata": {},
     "output_type": "execute_result"
    }
   ],
   "source": [
    "a[0]"
   ]
  },
  {
   "cell_type": "code",
   "execution_count": 14,
   "id": "0c80a062",
   "metadata": {},
   "outputs": [
    {
     "data": {
      "text/plain": [
       "[38, 21, 62, 19]"
      ]
     },
     "execution_count": 14,
     "metadata": {},
     "output_type": "execute_result"
    }
   ],
   "source": [
    "a =[38, 21, 53, 62, 19]\n",
    "del a[2]\n",
    "a"
   ]
  },
  {
   "cell_type": "code",
   "execution_count": 15,
   "id": "52e115f8",
   "metadata": {},
   "outputs": [
    {
     "data": {
      "text/plain": [
       "[0, 10, 20, 30]"
      ]
     },
     "execution_count": 15,
     "metadata": {},
     "output_type": "execute_result"
    }
   ],
   "source": [
    "# slice 사용하기  --- 리스트 일부 잘라서 새 리스트 만들기\n",
    "# 시퀀스 객체 = [시작인덱스, 끝인덱스]\n",
    "# 끝인덱스는 가져오고자 하는 인덱스보다 1 크게 지정\n",
    "a = [0, 10, 20, 30, 40, 50, 60, 70, 80, 90]\n",
    "a[0:4]"
   ]
  },
  {
   "cell_type": "code",
   "execution_count": 16,
   "id": "18af5e8a",
   "metadata": {},
   "outputs": [
    {
     "data": {
      "text/plain": [
       "[0, 10, 20, 30, 40, 50, 60, 70, 80, 90]"
      ]
     },
     "execution_count": 16,
     "metadata": {},
     "output_type": "execute_result"
    }
   ],
   "source": [
    "a[0:10]"
   ]
  },
  {
   "cell_type": "code",
   "execution_count": 17,
   "id": "7c2ae646",
   "metadata": {},
   "outputs": [
    {
     "data": {
      "text/plain": [
       "[]"
      ]
     },
     "execution_count": 17,
     "metadata": {},
     "output_type": "execute_result"
    }
   ],
   "source": [
    "a[1:1]      # 시작인데스 = 끝인덱스 인 경우 아무것도 출력하지 않음."
   ]
  },
  {
   "cell_type": "code",
   "execution_count": 18,
   "id": "1dd82ea1",
   "metadata": {},
   "outputs": [
    {
     "data": {
      "text/plain": [
       "[10]"
      ]
     },
     "execution_count": 18,
     "metadata": {},
     "output_type": "execute_result"
    }
   ],
   "source": [
    "a[1:2]      # a[1]부터 a[2]인 경우 a[1]의 값만 출력된다."
   ]
  },
  {
   "cell_type": "code",
   "execution_count": 19,
   "id": "1c5e330e",
   "metadata": {},
   "outputs": [
    {
     "data": {
      "text/plain": [
       "[40, 50, 60, 70, 80]"
      ]
     },
     "execution_count": 19,
     "metadata": {},
     "output_type": "execute_result"
    }
   ],
   "source": [
    "a[4:-1]     # 끝인데스가 -1 인 경우 -2 인덱스까지만 출력한다."
   ]
  },
  {
   "cell_type": "code",
   "execution_count": 20,
   "id": "9defb904",
   "metadata": {},
   "outputs": [
    {
     "data": {
      "text/plain": [
       "[20, 50]"
      ]
     },
     "execution_count": 20,
     "metadata": {},
     "output_type": "execute_result"
    }
   ],
   "source": [
    "a[2:8:3]    # 시퀀스 객체 [시작인덱스, 끝인덱스, 증가폭]"
   ]
  },
  {
   "cell_type": "code",
   "execution_count": 21,
   "id": "ca84a9fe",
   "metadata": {},
   "outputs": [
    {
     "data": {
      "text/plain": [
       "[0, 10, 20, 30, 40, 50, 60]"
      ]
     },
     "execution_count": 21,
     "metadata": {},
     "output_type": "execute_result"
    }
   ],
   "source": [
    " a[:7]      # 인덱스 생략할 경우 [:n] 처음부터 n까지, [n:] n부터 끝까지"
   ]
  },
  {
   "cell_type": "code",
   "execution_count": 22,
   "id": "97adc8ce",
   "metadata": {},
   "outputs": [
    {
     "data": {
      "text/plain": [
       "[0, 10, 20, 30, 40, 50, 60, 70, 80, 90]"
      ]
     },
     "execution_count": 22,
     "metadata": {},
     "output_type": "execute_result"
    }
   ],
   "source": [
    "a[:]        # 시퀀스 객체[:]  == 리스트 전체"
   ]
  },
  {
   "cell_type": "code",
   "execution_count": 23,
   "id": "15c1719e",
   "metadata": {},
   "outputs": [
    {
     "data": {
      "text/plain": [
       "[0, 20, 40, 60]"
      ]
     },
     "execution_count": 23,
     "metadata": {},
     "output_type": "execute_result"
    }
   ],
   "source": [
    "a[:7:2]"
   ]
  },
  {
   "cell_type": "code",
   "execution_count": 24,
   "id": "4e0ee7c9",
   "metadata": {},
   "outputs": [
    {
     "data": {
      "text/plain": [
       "[70, 90]"
      ]
     },
     "execution_count": 24,
     "metadata": {},
     "output_type": "execute_result"
    }
   ],
   "source": [
    "a[7::2]"
   ]
  },
  {
   "cell_type": "code",
   "execution_count": 25,
   "id": "186cded2",
   "metadata": {},
   "outputs": [
    {
     "data": {
      "text/plain": [
       "[0, 20, 40, 60, 80]"
      ]
     },
     "execution_count": 25,
     "metadata": {},
     "output_type": "execute_result"
    }
   ],
   "source": [
    "a[::2]"
   ]
  },
  {
   "cell_type": "code",
   "execution_count": 26,
   "id": "9987671b",
   "metadata": {},
   "outputs": [
    {
     "data": {
      "text/plain": [
       "[0, 10, 20, 30, 40, 50, 60, 70, 80, 90]"
      ]
     },
     "execution_count": 26,
     "metadata": {},
     "output_type": "execute_result"
    }
   ],
   "source": [
    "a[::]          # 시퀀스 객체[::] == 리스트 전체"
   ]
  },
  {
   "cell_type": "code",
   "execution_count": 27,
   "id": "62fc95a7",
   "metadata": {},
   "outputs": [
    {
     "data": {
      "text/plain": [
       "[90, 80, 70, 60, 50, 40, 30, 20, 10, 0]"
      ]
     },
     "execution_count": 27,
     "metadata": {},
     "output_type": "execute_result"
    }
   ],
   "source": [
    "a[::-1]        # 시퀀스 객체[::-1] == 리스트 반대로 뒤집기"
   ]
  },
  {
   "cell_type": "code",
   "execution_count": 28,
   "id": "1a232b0c",
   "metadata": {},
   "outputs": [
    {
     "data": {
      "text/plain": [
       "[0, 10, 20, 30, 40, 50, 60, 70, 80, 90]"
      ]
     },
     "execution_count": 28,
     "metadata": {},
     "output_type": "execute_result"
    }
   ],
   "source": [
    "a[0:len(a)]    # len(a) = 10    a[10]은 존재하지 않지만 끝인덱스는 가져오고자 하는 인덱스보다 1 커야 하므로."
   ]
  },
  {
   "cell_type": "code",
   "execution_count": 29,
   "id": "d5f538ba",
   "metadata": {},
   "outputs": [
    {
     "data": {
      "text/plain": [
       "range(0, 10)"
      ]
     },
     "execution_count": 29,
     "metadata": {},
     "output_type": "execute_result"
    }
   ],
   "source": [
    "r = range(10)      # range 는 생성 범위만 표시됨.\n",
    "r"
   ]
  },
  {
   "cell_type": "code",
   "execution_count": 30,
   "id": "c817c9fe",
   "metadata": {},
   "outputs": [
    {
     "data": {
      "text/plain": [
       "range(4, 7)"
      ]
     },
     "execution_count": 30,
     "metadata": {},
     "output_type": "execute_result"
    }
   ],
   "source": [
    "r[4:7]"
   ]
  },
  {
   "cell_type": "code",
   "execution_count": 33,
   "id": "f61838f6",
   "metadata": {},
   "outputs": [
    {
     "data": {
      "text/plain": [
       "range(4, 10)"
      ]
     },
     "execution_count": 33,
     "metadata": {},
     "output_type": "execute_result"
    }
   ],
   "source": [
    "r[4:]"
   ]
  },
  {
   "cell_type": "code",
   "execution_count": 34,
   "id": "ceb5ec23",
   "metadata": {},
   "outputs": [
    {
     "data": {
      "text/plain": [
       "range(0, 7, 2)"
      ]
     },
     "execution_count": 34,
     "metadata": {},
     "output_type": "execute_result"
    }
   ],
   "source": [
    "r[:7:2]"
   ]
  },
  {
   "cell_type": "code",
   "execution_count": 36,
   "id": "5df04bc5",
   "metadata": {},
   "outputs": [
    {
     "data": {
      "text/plain": [
       "[0, 2, 4, 6]"
      ]
     },
     "execution_count": 36,
     "metadata": {},
     "output_type": "execute_result"
    }
   ],
   "source": [
    "list(r[:7:2])"
   ]
  },
  {
   "cell_type": "code",
   "execution_count": 37,
   "id": "f55cf873",
   "metadata": {},
   "outputs": [
    {
     "data": {
      "text/plain": [
       "'llo, wo'"
      ]
     },
     "execution_count": 37,
     "metadata": {},
     "output_type": "execute_result"
    }
   ],
   "source": [
    "hello = 'hello, world'\n",
    "hello[2:9]"
   ]
  },
  {
   "cell_type": "code",
   "execution_count": 38,
   "id": "21cad909",
   "metadata": {},
   "outputs": [
    {
     "data": {
      "text/plain": [
       "'hlo o'"
      ]
     },
     "execution_count": 38,
     "metadata": {},
     "output_type": "execute_result"
    }
   ],
   "source": [
    "hello[:9:2]"
   ]
  },
  {
   "cell_type": "code",
   "execution_count": 41,
   "id": "1c24268c",
   "metadata": {},
   "outputs": [],
   "source": [
    "a = [0, 10, 20, 30, 40, 50, 60, 70, 80, 90]\n",
    "s = slice(4, 7)"
   ]
  },
  {
   "cell_type": "code",
   "execution_count": 43,
   "id": "3610ff5b",
   "metadata": {},
   "outputs": [
    {
     "data": {
      "text/plain": [
       "[40, 50, 60]"
      ]
     },
     "execution_count": 43,
     "metadata": {},
     "output_type": "execute_result"
    }
   ],
   "source": [
    "a[s]"
   ]
  },
  {
   "cell_type": "code",
   "execution_count": 46,
   "id": "dcb34d28",
   "metadata": {},
   "outputs": [
    {
     "data": {
      "text/plain": [
       "range(4, 7)"
      ]
     },
     "execution_count": 46,
     "metadata": {},
     "output_type": "execute_result"
    }
   ],
   "source": [
    "r=range(10)\n",
    "r[s]"
   ]
  },
  {
   "cell_type": "code",
   "execution_count": 47,
   "id": "f2a2fb00",
   "metadata": {},
   "outputs": [
    {
     "data": {
      "text/plain": [
       "'o, '"
      ]
     },
     "execution_count": 47,
     "metadata": {},
     "output_type": "execute_result"
    }
   ],
   "source": [
    "hello = 'hello, world'\n",
    "hello[s]"
   ]
  },
  {
   "cell_type": "code",
   "execution_count": 48,
   "id": "7fbb1e51",
   "metadata": {},
   "outputs": [],
   "source": [
    "# 리스트의 특정 범위의 요소에 값 할당\n",
    "a = [0, 10, 20, 30, 40, 50, 60, 70, 80, 90]\n",
    "a[2:5] = ['a', 'b', 'c']"
   ]
  },
  {
   "cell_type": "code",
   "execution_count": 49,
   "id": "4e276ff9",
   "metadata": {},
   "outputs": [
    {
     "data": {
      "text/plain": [
       "[0, 10, 'a', 'b', 'c', 50, 60, 70, 80, 90]"
      ]
     },
     "execution_count": 49,
     "metadata": {},
     "output_type": "execute_result"
    }
   ],
   "source": [
    "a"
   ]
  },
  {
   "cell_type": "code",
   "execution_count": 50,
   "id": "2b79d604",
   "metadata": {},
   "outputs": [],
   "source": [
    "a[2:5] = ['a']    # 할당할 요소 개수가 적으면(a[2]~a[4]까지 할당할 요소는 'a' 하나) 그만큼 리스트의 요소 개수도 줄어든다."
   ]
  },
  {
   "cell_type": "code",
   "execution_count": 51,
   "id": "fed2db33",
   "metadata": {},
   "outputs": [
    {
     "data": {
      "text/plain": [
       "[0, 10, 'a', 50, 60, 70, 80, 90]"
      ]
     },
     "execution_count": 51,
     "metadata": {},
     "output_type": "execute_result"
    }
   ],
   "source": [
    "a"
   ]
  },
  {
   "cell_type": "code",
   "execution_count": 52,
   "id": "5ece32af",
   "metadata": {},
   "outputs": [],
   "source": [
    "a[2: 5] = ['a', 'b', 'c', 'd', 'e']      # 할당 인덱스 수 < 할당할 요소 개수 ==> 시퀀스 객체 길이 증가"
   ]
  },
  {
   "cell_type": "code",
   "execution_count": 53,
   "id": "c87ee38e",
   "metadata": {},
   "outputs": [
    {
     "data": {
      "text/plain": [
       "[0, 10, 'a', 'b', 'c', 'd', 'e', 70, 80, 90]"
      ]
     },
     "execution_count": 53,
     "metadata": {},
     "output_type": "execute_result"
    }
   ],
   "source": [
    "a"
   ]
  },
  {
   "cell_type": "code",
   "execution_count": 60,
   "id": "5e29b488",
   "metadata": {},
   "outputs": [
    {
     "data": {
      "text/plain": [
       "[0, 10, 'a', 30, 'b', 50, 'c', 70, 80, 90]"
      ]
     },
     "execution_count": 60,
     "metadata": {},
     "output_type": "execute_result"
    }
   ],
   "source": [
    "a = [0, 10, 20, 30, 40, 50, 60, 70, 80, 90]\n",
    "a[2:8:2] = ['a', 'b', 'c']        # 인덱스 2부터 7까지 2씩 증가하면서 값 할당(이 경우 슬라이스 범위의 요소 개수는 할당할 요소 개수와 일치해야 함.)\n",
    "a"
   ]
  },
  {
   "cell_type": "code",
   "execution_count": 2,
   "id": "9e840a02",
   "metadata": {},
   "outputs": [
    {
     "data": {
      "text/plain": [
       "[0, 10, 50, 60, 70, 80, 90]"
      ]
     },
     "execution_count": 2,
     "metadata": {},
     "output_type": "execute_result"
    }
   ],
   "source": [
    "# del로 슬라이스 삭제하기\n",
    "a = [0,10,20,30,40,50,60,70,80,90]\n",
    "del a[2:5]\n",
    "a"
   ]
  },
  {
   "cell_type": "code",
   "execution_count": 3,
   "id": "0d819107",
   "metadata": {},
   "outputs": [
    {
     "data": {
      "text/plain": [
       "[0, 10, 30, 50, 70, 80, 90]"
      ]
     },
     "execution_count": 3,
     "metadata": {},
     "output_type": "execute_result"
    }
   ],
   "source": [
    "a = [0,10,20,30,40,50,60,70,80,90]\n",
    "del a[2:8:2]\n",
    "a"
   ]
  },
  {
   "cell_type": "code",
   "execution_count": 8,
   "id": "c1497141",
   "metadata": {},
   "outputs": [
    {
     "name": "stdout",
     "output_type": "stream",
     "text": [
      "[2016, 2017, 2018]\n",
      "[9930616, 987426, 9838892]\n",
      "[2016, 2017, 2018]\n",
      "[9930616, 987426, 9838892]\n"
     ]
    }
   ],
   "source": [
    "# 11.6 연습문제\n",
    "year = [2011, 2012, 2013, 2014, 2015, 2016, 2017,2018]\n",
    "population = [10249679, 10195318, 10143645, 10103233, 10022181, 9930616, 987426, 9838892]\n",
    "print(year[5:8])\n",
    "print(population[5:8])\n",
    "\n",
    "# 더 간결한 식\n",
    "print(year[-3:])\n",
    "print(population[-3:])"
   ]
  },
  {
   "cell_type": "code",
   "execution_count": 12,
   "id": "b85fc5ab",
   "metadata": {},
   "outputs": [
    {
     "name": "stdout",
     "output_type": "stream",
     "text": [
      "(75, -10, 32, -15, 76, 2)\n"
     ]
    }
   ],
   "source": [
    "# 연습문제 11.7\n",
    "n= -32, 75, 97, -10, 9, 32, 4, -15, 0, 76, 14,2\n",
    "print(n[1::2])"
   ]
  },
  {
   "cell_type": "code",
   "execution_count": 15,
   "id": "71d65769",
   "metadata": {},
   "outputs": [
    {
     "name": "stdout",
     "output_type": "stream",
     "text": [
      "oven bat pony total leak wrek curl crop space navy loss knee\n",
      "['oven', 'bat', 'pony', 'total', 'leak', 'wrek', 'curl']\n"
     ]
    }
   ],
   "source": [
    "# 심사문제 11.8\n",
    "x = input().split()\n",
    "x\n",
    "print(x[:-5])"
   ]
  },
  {
   "cell_type": "code",
   "execution_count": 1,
   "id": "a173bb88",
   "metadata": {},
   "outputs": [
    {
     "name": "stdout",
     "output_type": "stream",
     "text": [
      "python\n",
      "python\n",
      "yhnpto\n"
     ]
    }
   ],
   "source": [
    "# 심사문제 11.9\n",
    "x = str(input())\n",
    "y = str(input())\n",
    "print(x[1::2] + y[::2])"
   ]
  },
  {
   "cell_type": "code",
   "execution_count": 17,
   "id": "01909686",
   "metadata": {},
   "outputs": [
    {
     "data": {
      "text/plain": [
       "{'health': 490, 'mana': 334, 'melee': 550, 'armor': 18.72}"
      ]
     },
     "execution_count": 17,
     "metadata": {},
     "output_type": "execute_result"
    }
   ],
   "source": [
    "# 12강 시작\n",
    "# 딕셔너리 = {키1: 값1, 키2: 값2}\n",
    "lux = {'health': 490, 'mana': 334, 'melee': 550, 'armor':18.72}\n",
    "lux"
   ]
  },
  {
   "cell_type": "code",
   "execution_count": 19,
   "id": "c2b74db1",
   "metadata": {},
   "outputs": [
    {
     "data": {
      "text/plain": [
       "{'health': 800, 'mana': 334, 'melee': 550, 'armor': 18.72}"
      ]
     },
     "execution_count": 19,
     "metadata": {},
     "output_type": "execute_result"
    }
   ],
   "source": [
    "lux = {'health': 490,'health': 800, 'mana': 334, 'melee': 550, 'armor':18.72}\n",
    "lux"
   ]
  },
  {
   "cell_type": "code",
   "execution_count": 20,
   "id": "42cbe4dc",
   "metadata": {},
   "outputs": [
    {
     "data": {
      "text/plain": [
       "{100: 'hundred', False: 0, 3.5: [3.5, 3.5]}"
      ]
     },
     "execution_count": 20,
     "metadata": {},
     "output_type": "execute_result"
    }
   ],
   "source": [
    "x = {100: 'hundred', False: 0, 3.5: [3.5, 3.5]}\n",
    "x"
   ]
  },
  {
   "cell_type": "code",
   "execution_count": 22,
   "id": "8e2e5f10",
   "metadata": {},
   "outputs": [
    {
     "ename": "TypeError",
     "evalue": "unhashable type: 'list'",
     "output_type": "error",
     "traceback": [
      "\u001b[1;31m---------------------------------------------------------------------------\u001b[0m",
      "\u001b[1;31mTypeError\u001b[0m                                 Traceback (most recent call last)",
      "Cell \u001b[1;32mIn[22], line 1\u001b[0m\n\u001b[1;32m----> 1\u001b[0m x \u001b[38;5;241m=\u001b[39m {[\u001b[38;5;241m10\u001b[39m, \u001b[38;5;241m20\u001b[39m]: \u001b[38;5;241m100\u001b[39m}\n",
      "\u001b[1;31mTypeError\u001b[0m: unhashable type: 'list'"
     ]
    }
   ],
   "source": [
    "x = {[10, 20]: 100}    # 키에는 리스트 값이 나올 수 없음."
   ]
  },
  {
   "cell_type": "code",
   "execution_count": 23,
   "id": "0279f565",
   "metadata": {},
   "outputs": [
    {
     "ename": "TypeError",
     "evalue": "unhashable type: 'dict'",
     "output_type": "error",
     "traceback": [
      "\u001b[1;31m---------------------------------------------------------------------------\u001b[0m",
      "\u001b[1;31mTypeError\u001b[0m                                 Traceback (most recent call last)",
      "Cell \u001b[1;32mIn[23], line 1\u001b[0m\n\u001b[1;32m----> 1\u001b[0m x \u001b[38;5;241m=\u001b[39m{{\u001b[38;5;124m'\u001b[39m\u001b[38;5;124ma\u001b[39m\u001b[38;5;124m'\u001b[39m:\u001b[38;5;241m10\u001b[39m}: \u001b[38;5;241m100\u001b[39m}\n",
      "\u001b[1;31mTypeError\u001b[0m: unhashable type: 'dict'"
     ]
    }
   ],
   "source": [
    "x ={{'a':10}: 100}      # 키에는 딕셔너리 사용 불가"
   ]
  },
  {
   "cell_type": "code",
   "execution_count": 25,
   "id": "f1494b77",
   "metadata": {},
   "outputs": [
    {
     "data": {
      "text/plain": [
       "{}"
      ]
     },
     "execution_count": 25,
     "metadata": {},
     "output_type": "execute_result"
    }
   ],
   "source": [
    "x = {}\n",
    "x"
   ]
  },
  {
   "cell_type": "code",
   "execution_count": 27,
   "id": "229857b8",
   "metadata": {},
   "outputs": [
    {
     "data": {
      "text/plain": [
       "{}"
      ]
     },
     "execution_count": 27,
     "metadata": {},
     "output_type": "execute_result"
    }
   ],
   "source": [
    "y = dict()\n",
    "y"
   ]
  },
  {
   "cell_type": "code",
   "execution_count": 28,
   "id": "d459de31",
   "metadata": {},
   "outputs": [
    {
     "data": {
      "text/plain": [
       "{'health': 490, 'mana': 334, 'melee': 550, 'armor': 18.72}"
      ]
     },
     "execution_count": 28,
     "metadata": {},
     "output_type": "execute_result"
    }
   ],
   "source": [
    "# dict로 딕셔너리 만들기\n",
    "# 딕셔너리 = dict(키1 = 값1, 키2=값2)\n",
    "# 딕셔너리 = dict(zip([키1: 키2], [값1: 값2]))\n",
    "# 딕셔너리 = dict([(키1: 값1), (키2, 값2)])\n",
    "# 딕셔너리 = dict({키1:값1, 키2: 값2})\n",
    "lux1 =dict(health=490, mana=334, melee=550, armor=18.72)\n",
    "lux1"
   ]
  },
  {
   "cell_type": "code",
   "execution_count": 30,
   "id": "c3e07126",
   "metadata": {},
   "outputs": [
    {
     "data": {
      "text/plain": [
       "{'health': 490, 'mana': 334, 'melee': 550, 'armor': 18.72}"
      ]
     },
     "execution_count": 30,
     "metadata": {},
     "output_type": "execute_result"
    }
   ],
   "source": [
    "lux2 = dict(zip(['health', 'mana', 'melee', 'armor'], [490, 334, 550, 18.72]))\n",
    "lux2"
   ]
  },
  {
   "cell_type": "code",
   "execution_count": 32,
   "id": "c6270989",
   "metadata": {},
   "outputs": [
    {
     "data": {
      "text/plain": [
       "{'health': 490, 'mana': 334, 'melee': 550, 'armor': 18.72}"
      ]
     },
     "execution_count": 32,
     "metadata": {},
     "output_type": "execute_result"
    }
   ],
   "source": [
    "lux3 = dict([('health', 490), ('mana', 334), ('melee', 550), ('armor',18.72)])\n",
    "lux3"
   ]
  },
  {
   "cell_type": "code",
   "execution_count": 34,
   "id": "be93a8e2",
   "metadata": {},
   "outputs": [
    {
     "data": {
      "text/plain": [
       "{'health': 490, 'mana': 334, 'melee': 550, 'armor': 18.72}"
      ]
     },
     "execution_count": 34,
     "metadata": {},
     "output_type": "execute_result"
    }
   ],
   "source": [
    "lux4 = dict({'health': 490, 'mana': 334, 'melee': 550, 'armor': 18.72})\n",
    "lux4"
   ]
  },
  {
   "cell_type": "code",
   "execution_count": 36,
   "id": "4bbfff64",
   "metadata": {},
   "outputs": [
    {
     "data": {
      "text/plain": [
       "{'health': 490, 'mana': 334, 'melee': 550, 'armor': 18.72}"
      ]
     },
     "execution_count": 36,
     "metadata": {},
     "output_type": "execute_result"
    }
   ],
   "source": [
    "lux = {'health':490, 'mana':334, 'melee': 550, 'armor': 18.72}\n",
    "lux"
   ]
  },
  {
   "cell_type": "code",
   "execution_count": 37,
   "id": "5d066f75",
   "metadata": {},
   "outputs": [
    {
     "data": {
      "text/plain": [
       "490"
      ]
     },
     "execution_count": 37,
     "metadata": {},
     "output_type": "execute_result"
    }
   ],
   "source": [
    "lux['health']"
   ]
  },
  {
   "cell_type": "code",
   "execution_count": 38,
   "id": "9a298cc9",
   "metadata": {},
   "outputs": [
    {
     "data": {
      "text/plain": [
       "18.72"
      ]
     },
     "execution_count": 38,
     "metadata": {},
     "output_type": "execute_result"
    }
   ],
   "source": [
    "lux['armor']"
   ]
  },
  {
   "cell_type": "code",
   "execution_count": 39,
   "id": "36c5a6fb",
   "metadata": {},
   "outputs": [],
   "source": [
    "lux['health']= 2037"
   ]
  },
  {
   "cell_type": "code",
   "execution_count": 40,
   "id": "c933770c",
   "metadata": {},
   "outputs": [],
   "source": [
    "lux['mana']= 1184"
   ]
  },
  {
   "cell_type": "code",
   "execution_count": 41,
   "id": "04c1ae61",
   "metadata": {},
   "outputs": [
    {
     "data": {
      "text/plain": [
       "{'health': 2037, 'mana': 1184, 'melee': 550, 'armor': 18.72}"
      ]
     },
     "execution_count": 41,
     "metadata": {},
     "output_type": "execute_result"
    }
   ],
   "source": [
    "lux"
   ]
  },
  {
   "cell_type": "code",
   "execution_count": 42,
   "id": "5e787707",
   "metadata": {},
   "outputs": [
    {
     "data": {
      "text/plain": [
       "{'health': 2037,\n",
       " 'mana': 1184,\n",
       " 'melee': 550,\n",
       " 'armor': 18.72,\n",
       " 'mana_regen': 3.28}"
      ]
     },
     "execution_count": 42,
     "metadata": {},
     "output_type": "execute_result"
    }
   ],
   "source": [
    "lux['mana_regen']= 3.28\n",
    "lux"
   ]
  },
  {
   "cell_type": "code",
   "execution_count": 43,
   "id": "15d3eb74",
   "metadata": {},
   "outputs": [
    {
     "data": {
      "text/plain": [
       "True"
      ]
     },
     "execution_count": 43,
     "metadata": {},
     "output_type": "execute_result"
    }
   ],
   "source": [
    "# 딕셔너리에 키가 있는지 확인하는 법\n",
    "'health' in lux"
   ]
  },
  {
   "cell_type": "code",
   "execution_count": 44,
   "id": "1a1ad50f",
   "metadata": {},
   "outputs": [
    {
     "data": {
      "text/plain": [
       "False"
      ]
     },
     "execution_count": 44,
     "metadata": {},
     "output_type": "execute_result"
    }
   ],
   "source": [
    "'attack_speed' in lux"
   ]
  },
  {
   "cell_type": "code",
   "execution_count": 45,
   "id": "a3554880",
   "metadata": {},
   "outputs": [
    {
     "data": {
      "text/plain": [
       "True"
      ]
     },
     "execution_count": 45,
     "metadata": {},
     "output_type": "execute_result"
    }
   ],
   "source": [
    "'attack_speed' not in lux"
   ]
  },
  {
   "cell_type": "code",
   "execution_count": 46,
   "id": "2cd1ba8a",
   "metadata": {},
   "outputs": [
    {
     "data": {
      "text/plain": [
       "5"
      ]
     },
     "execution_count": 46,
     "metadata": {},
     "output_type": "execute_result"
    }
   ],
   "source": [
    "# 딕셔너리의 키 개수 구하는 법 (키와 값 1대1 대응되므로 키 개수가 곧 값의 개수)\n",
    "len(lux)"
   ]
  },
  {
   "cell_type": "code",
   "execution_count": 47,
   "id": "29c761d3",
   "metadata": {},
   "outputs": [
    {
     "data": {
      "text/plain": [
       "4"
      ]
     },
     "execution_count": 47,
     "metadata": {},
     "output_type": "execute_result"
    }
   ],
   "source": [
    "len({'health':490, 'mana':334, 'melee': 550, 'armor': 18.72})"
   ]
  },
  {
   "cell_type": "code",
   "execution_count": 50,
   "id": "b9342ce5",
   "metadata": {},
   "outputs": [
    {
     "name": "stdout",
     "output_type": "stream",
     "text": [
      "575.6\n",
      "340\n"
     ]
    }
   ],
   "source": [
    "camille = {\n",
    "    'health': 575.6,\n",
    "    'health_regen': 1.7,\n",
    "    'mana':338.8,\n",
    "    'mana_regen': 1.63,\n",
    "    'melee': 125,\n",
    "    'attack_damage': 60,\n",
    "    'attack_speed': 0.625,\n",
    "    'armor': 26,\n",
    "    'magic_resistance': 32.1,\n",
    "    'movement_speed': 340\n",
    "}\n",
    "print(camille['health'])\n",
    "print(camille['movement_speed'])"
   ]
  },
  {
   "cell_type": "code",
   "execution_count": 53,
   "id": "71f30c7d",
   "metadata": {},
   "outputs": [
    {
     "name": "stdout",
     "output_type": "stream",
     "text": [
      "health health_regen mana mana_regen\n",
      "575.6 1.7 338.8 1.63\n"
     ]
    },
    {
     "ename": "TypeError",
     "evalue": "int() argument must be a string, a bytes-like object or a real number, not 'list'",
     "output_type": "error",
     "traceback": [
      "\u001b[1;31m---------------------------------------------------------------------------\u001b[0m",
      "\u001b[1;31mTypeError\u001b[0m                                 Traceback (most recent call last)",
      "Cell \u001b[1;32mIn[53], line 2\u001b[0m\n\u001b[0;32m      1\u001b[0m a \u001b[38;5;241m=\u001b[39m \u001b[38;5;28minput\u001b[39m()\u001b[38;5;241m.\u001b[39msplit()\n\u001b[1;32m----> 2\u001b[0m b \u001b[38;5;241m=\u001b[39m \u001b[38;5;28;43mint\u001b[39;49m\u001b[43m(\u001b[49m\u001b[38;5;28;43minput\u001b[39;49m\u001b[43m(\u001b[49m\u001b[43m)\u001b[49m\u001b[38;5;241;43m.\u001b[39;49m\u001b[43msplit\u001b[49m\u001b[43m(\u001b[49m\u001b[43m)\u001b[49m\u001b[43m)\u001b[49m\n\u001b[0;32m      3\u001b[0m x \u001b[38;5;241m=\u001b[39m \u001b[38;5;28mdict\u001b[39m(\u001b[38;5;28mzip\u001b[39m(a),(b))\n\u001b[0;32m      4\u001b[0m x\n",
      "\u001b[1;31mTypeError\u001b[0m: int() argument must be a string, a bytes-like object or a real number, not 'list'"
     ]
    }
   ],
   "source": [
    "#12.5 심사문제\n",
    "a = input().split()\n",
    "b = map(float, input().split)\n",
    "x = a + b\n",
    "x = dict(\n",
    "x"
   ]
  },
  {
   "cell_type": "code",
   "execution_count": 55,
   "id": "5da5f2d2",
   "metadata": {},
   "outputs": [
    {
     "name": "stdout",
     "output_type": "stream",
     "text": [
      "10입니다\n"
     ]
    }
   ],
   "source": [
    "# 13강 시작\n",
    "# if문\n",
    "# if (조건식) :\n",
    "# 반드시 들여쓰기 & if문 다음에 오는 코드들은 반드시 들여쓰기 깊이가 같아야 함.\n",
    "x=10\n",
    "if x == 10:\n",
    "    print('10입니다')"
   ]
  },
  {
   "cell_type": "code",
   "execution_count": 57,
   "id": "2e7035c7",
   "metadata": {},
   "outputs": [
    {
     "ename": "SyntaxError",
     "evalue": "incomplete input (1624312110.py, line 2)",
     "output_type": "error",
     "traceback": [
      "\u001b[1;36m  Cell \u001b[1;32mIn[57], line 2\u001b[1;36m\u001b[0m\n\u001b[1;33m    if x ==10:\u001b[0m\n\u001b[1;37m              ^\u001b[0m\n\u001b[1;31mSyntaxError\u001b[0m\u001b[1;31m:\u001b[0m incomplete input\n"
     ]
    }
   ],
   "source": [
    "x = 10\n",
    "if x ==10:     # if문에서 조건식 다음에 비워두면 에러. 에러 방지 위해 '아무 일도 하지 않고 넘어간다'는 뜻의 pass 사용."
   ]
  },
  {
   "cell_type": "code",
   "execution_count": 59,
   "id": "4d416e2a",
   "metadata": {},
   "outputs": [],
   "source": [
    "x = 10\n",
    "if x == 10:\n",
    "    pass\n",
    "# TODO: x가 10일 때 처리가 필요함.(검색용이성을 위해 일관된 주석 사용 ex. FIXME, BUG, NOTE 등)\n",
    "# pass는 나중에 할 일은 주석으로 남겨놓고 만들어두고 넘어감."
   ]
  },
  {
   "cell_type": "code",
   "execution_count": 62,
   "id": "84f831c4",
   "metadata": {},
   "outputs": [
    {
     "name": "stdout",
     "output_type": "stream",
     "text": [
      "10 이상입니다.\n",
      "15입니다.\n"
     ]
    }
   ],
   "source": [
    "x = 15\n",
    "if x >= 10:\n",
    "    print('10 이상입니다.')\n",
    "    \n",
    "    if x ==15:\n",
    "        print('15입니다.')\n",
    "    \n",
    "    if x == 20:\n",
    "        print('20입니다.')\n",
    "\n",
    "# if x ==15:  ,  if x == 20:  는     if x >= 10:   의 조건식을 만족해야만 실행되는 코드로 한 번 더 들여쓰기 해야 한다."
   ]
  },
  {
   "cell_type": "code",
   "execution_count": 65,
   "id": "cb5f8ce8",
   "metadata": {},
   "outputs": [
    {
     "name": "stdout",
     "output_type": "stream",
     "text": [
      "15\n"
     ]
    }
   ],
   "source": [
    "x = int(input())\n",
    "\n",
    "if x == 10:\n",
    "    print('10입니다.')\n",
    "\n",
    "if x == 20:\n",
    "    print('20입니다.')"
   ]
  },
  {
   "cell_type": "code",
   "execution_count": 66,
   "id": "2765b8e7",
   "metadata": {},
   "outputs": [
    {
     "name": "stdout",
     "output_type": "stream",
     "text": [
      "ok\n"
     ]
    }
   ],
   "source": [
    "# 연습문제 13.6\n",
    "x = 5\n",
    "\n",
    "if x != 10:\n",
    "    print('ok')"
   ]
  },
  {
   "cell_type": "code",
   "execution_count": 68,
   "id": "f90a67b4",
   "metadata": {},
   "outputs": [
    {
     "name": "stdout",
     "output_type": "stream",
     "text": [
      "72000\n",
      "Cash5000\n",
      "67000\n"
     ]
    }
   ],
   "source": [
    "a = int(input())\n",
    "b = input()\n",
    "\n",
    "if b == 'Cash3000':\n",
    "    print(a - 3000)\n",
    "if b == 'Cash5000':\n",
    "    print(a - 5000)"
   ]
  },
  {
   "cell_type": "code",
   "execution_count": 69,
   "id": "82945e83",
   "metadata": {},
   "outputs": [
    {
     "name": "stdout",
     "output_type": "stream",
     "text": [
      "10이 아닙니다.\n"
     ]
    }
   ],
   "source": [
    "# 14강 시작\n",
    "x = 5\n",
    "if x == 10:\n",
    "    print('10입니다.')\n",
    "else:\n",
    "    print('10이 아닙니다.')"
   ]
  },
  {
   "cell_type": "code",
   "execution_count": 70,
   "id": "41b62e28",
   "metadata": {},
   "outputs": [
    {
     "data": {
      "text/plain": [
       "0"
      ]
     },
     "execution_count": 70,
     "metadata": {},
     "output_type": "execute_result"
    }
   ],
   "source": [
    "x = 5\n",
    "if x == 10:\n",
    "    y = x\n",
    "else:\n",
    "    y = 0\n",
    "    \n",
    "y"
   ]
  },
  {
   "cell_type": "code",
   "execution_count": 71,
   "id": "116b5fc8",
   "metadata": {},
   "outputs": [
    {
     "data": {
      "text/plain": [
       "0"
      ]
     },
     "execution_count": 71,
     "metadata": {},
     "output_type": "execute_result"
    }
   ],
   "source": [
    "x = 5\n",
    "y = x if x == 10 else 0\n",
    "y"
   ]
  },
  {
   "cell_type": "code",
   "execution_count": 72,
   "id": "92d79204",
   "metadata": {},
   "outputs": [
    {
     "name": "stdout",
     "output_type": "stream",
     "text": [
      "참\n",
      "거짓\n",
      "거짓\n"
     ]
    }
   ],
   "source": [
    "if True:\n",
    "    print('참')\n",
    "else:\n",
    "    print('거짓')\n",
    "    \n",
    "if False:\n",
    "    print('참')\n",
    "else:\n",
    "    print('거짓')\n",
    "    \n",
    "if None:\n",
    "    print('참')\n",
    "else:\n",
    "    print('거짓')"
   ]
  },
  {
   "cell_type": "code",
   "execution_count": 73,
   "id": "798ea41f",
   "metadata": {},
   "outputs": [
    {
     "name": "stdout",
     "output_type": "stream",
     "text": [
      "참\n",
      "거짓\n"
     ]
    }
   ],
   "source": [
    "if 'Hello':\n",
    "    print('참')\n",
    "else:\n",
    "    print('거짓')\n",
    "    \n",
    "if '':\n",
    "    print('참')\n",
    "else:\n",
    "    print('거짓')\n",
    "    \n",
    "# 빈 문자열은 거짓이다(else로 분류되어 print'거짓')\n",
    "# false로 취급되는 것 : None, False, 0인 숫자, 비어있는 문자열/리스트/튜플/딕셔너리/set"
   ]
  },
  {
   "cell_type": "code",
   "execution_count": 75,
   "id": "e89007ac",
   "metadata": {},
   "outputs": [
    {
     "name": "stdout",
     "output_type": "stream",
     "text": [
      "참\n"
     ]
    }
   ],
   "source": [
    "if not 0:\n",
    "    print('참')"
   ]
  },
  {
   "cell_type": "code",
   "execution_count": 74,
   "id": "adca95f9",
   "metadata": {},
   "outputs": [
    {
     "name": "stdout",
     "output_type": "stream",
     "text": [
      "참\n"
     ]
    }
   ],
   "source": [
    "# 조건식이 여러 개일 때\n",
    "x = 10\n",
    "y = 20\n",
    "\n",
    "if x == 10 and y ==20:\n",
    "    print('참')\n",
    "else:\n",
    "    print('거짓')"
   ]
  },
  {
   "cell_type": "code",
   "execution_count": 76,
   "id": "21ef2d7d",
   "metadata": {},
   "outputs": [
    {
     "name": "stdout",
     "output_type": "stream",
     "text": [
      "20보다 작은 양수입니다.\n"
     ]
    }
   ],
   "source": [
    "if x > 0:\n",
    "    if x< 20:\n",
    "        print('20보다 작은 양수입니다.')"
   ]
  },
  {
   "cell_type": "code",
   "execution_count": 77,
   "id": "408882cb",
   "metadata": {},
   "outputs": [
    {
     "name": "stdout",
     "output_type": "stream",
     "text": [
      "20보다 작은 양수입니다.\n"
     ]
    }
   ],
   "source": [
    "# 위의 조건식 축약 ver.1\n",
    "if x > 0 and x< 20:\n",
    "    print('20보다 작은 양수입니다.')"
   ]
  },
  {
   "cell_type": "code",
   "execution_count": 78,
   "id": "00652ad9",
   "metadata": {},
   "outputs": [
    {
     "name": "stdout",
     "output_type": "stream",
     "text": [
      "20보다 작은 양수입니다.\n"
     ]
    }
   ],
   "source": [
    "# 위의 조건식 축약 ver.2\n",
    "if 0 < x < 20:\n",
    "    print('20보다 작은 양수입니다.')"
   ]
  },
  {
   "cell_type": "code",
   "execution_count": 80,
   "id": "1f09e539",
   "metadata": {},
   "outputs": [
    {
     "name": "stdout",
     "output_type": "stream",
     "text": [
      "불합격\n"
     ]
    }
   ],
   "source": [
    "# 14.6 연습문제\n",
    "written_test = 75\n",
    "coding_test = True\n",
    "\n",
    "if written_test >= 80 and coding_test == True:\n",
    "    print('합격')\n",
    "else:\n",
    "    print('불합격')"
   ]
  },
  {
   "cell_type": "code",
   "execution_count": null,
   "id": "85b8ea44",
   "metadata": {},
   "outputs": [],
   "source": [
    "# 14.7 심사문제\n",
    "a, b, c, d = map(int,input().split())\n",
    "avg = a + b + c + d / 4\n",
    "\n",
    "if 0 <= a, b, c, d <= 100:\n",
    "    \n",
    "    if avg >= 80:\n",
    "        print('합격')\n",
    "        \n",
    "    else:\n",
    "        print('불합격')\n",
    "        \n",
    "else:\n",
    "    print('잘못된 점수')"
   ]
  },
  {
   "cell_type": "code",
   "execution_count": 1,
   "id": "61565b6f",
   "metadata": {},
   "outputs": [
    {
     "name": "stdout",
     "output_type": "stream",
     "text": [
      "20입니다\n"
     ]
    }
   ],
   "source": [
    "# 15강 시작\n",
    "x = 20\n",
    "\n",
    "if x == 10:\n",
    "    print('10입니다')\n",
    "    \n",
    "elif x == 20:\n",
    "    print('20입니다')"
   ]
  },
  {
   "cell_type": "code",
   "execution_count": 2,
   "id": "1f9a2a4e",
   "metadata": {},
   "outputs": [
    {
     "name": "stdout",
     "output_type": "stream",
     "text": [
      "10도 20도 아닙니다\n"
     ]
    }
   ],
   "source": [
    "x = 30\n",
    "\n",
    "if x == 10:\n",
    "    print('10입니다')\n",
    "    \n",
    "elif x == 20:\n",
    "    print('20입니다')\n",
    "    \n",
    "else:\n",
    "    print('10도 20도 아닙니다')"
   ]
  },
  {
   "cell_type": "code",
   "execution_count": 1,
   "id": "ad7d6cfe",
   "metadata": {},
   "outputs": [
    {
     "name": "stdout",
     "output_type": "stream",
     "text": [
      "1\n",
      "콜라\n"
     ]
    }
   ],
   "source": [
    "button = int(input())\n",
    "\n",
    "if button == 1:\n",
    "    print('콜라')\n",
    "elif button == 2:\n",
    "    print('사이다')\n",
    "elif button == 3:\n",
    "    print('환타')\n",
    "else:\n",
    "    print('제공하지 않는 메뉴')\n",
    "    "
   ]
  },
  {
   "cell_type": "code",
   "execution_count": 2,
   "id": "6ef10f54",
   "metadata": {},
   "outputs": [
    {
     "name": "stdout",
     "output_type": "stream",
     "text": [
      "5\n",
      "아무것도 해당하지 않음\n"
     ]
    }
   ],
   "source": [
    "x = int(input())\n",
    "\n",
    "if 11 <= x <= 20:\n",
    "    print('11~20')\n",
    "elif 21 <= x <= 30:\n",
    "    print('21~30')\n",
    "else:\n",
    "    print('아무것도 해당하지 않음')"
   ]
  },
  {
   "cell_type": "code",
   "execution_count": 2,
   "id": "5b3410ac",
   "metadata": {},
   "outputs": [
    {
     "name": "stdout",
     "output_type": "stream",
     "text": [
      "12\n",
      "8350\n"
     ]
    }
   ],
   "source": [
    "# 15.4 심사문제\n",
    "age = int(input())\n",
    "balance = 9000\n",
    "\n",
    "if 7 <= age <= 12:\n",
    "    balance = 9000-650\n",
    "elif 12 < age <= 18:\n",
    "    balance = 9000-1050\n",
    "else:\n",
    "    balance = 9000-1250\n",
    "    \n",
    "print(balance)"
   ]
  },
  {
   "cell_type": "code",
   "execution_count": null,
   "id": "dc8e5784",
   "metadata": {},
   "outputs": [],
   "source": []
  }
 ],
 "metadata": {
  "kernelspec": {
   "display_name": "Python 3 (ipykernel)",
   "language": "python",
   "name": "python3"
  },
  "language_info": {
   "codemirror_mode": {
    "name": "ipython",
    "version": 3
   },
   "file_extension": ".py",
   "mimetype": "text/x-python",
   "name": "python",
   "nbconvert_exporter": "python",
   "pygments_lexer": "ipython3",
   "version": "3.10.9"
  }
 },
 "nbformat": 4,
 "nbformat_minor": 5
}
