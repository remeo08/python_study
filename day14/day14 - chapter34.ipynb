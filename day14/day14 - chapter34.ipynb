{
 "cells": [
  {
   "cell_type": "code",
   "execution_count": 2,
   "id": "051ed965",
   "metadata": {},
   "outputs": [],
   "source": [
    "# 34강 시작\n",
    "# 클래스(클래스 이름은 대문자로 시작, 메서드의 첫 번째 매개변수는 반드시 self 지정)\n",
    "# 메서드: 클래스 안에 들어 있는 함수\n",
    "# class 클래스이름:\n",
    "#    def 메서드(self):\n",
    "#        코드\n",
    "class Person:\n",
    "    def greeting(self):\n",
    "        print('Hello')\n",
    "\n",
    "james = Person()   # james가 Person의 인스턴스"
   ]
  },
  {
   "cell_type": "code",
   "execution_count": 3,
   "id": "a6ad534b",
   "metadata": {},
   "outputs": [
    {
     "name": "stdout",
     "output_type": "stream",
     "text": [
      "Hello\n"
     ]
    }
   ],
   "source": [
    "# 메서드 호출하기\n",
    "# 메서드는 인스턴스를 통해 호출  == 인스턴스 메서드\n",
    "# 형식:  인스턴스.메서드()\n",
    "james.greeting()"
   ]
  },
  {
   "cell_type": "code",
   "execution_count": 5,
   "id": "aa3364e3",
   "metadata": {},
   "outputs": [],
   "source": [
    "# 빈 class 만들기\n",
    "class Person:\n",
    "    pass"
   ]
  },
  {
   "cell_type": "code",
   "execution_count": 6,
   "id": "435fe5c2",
   "metadata": {},
   "outputs": [
    {
     "name": "stdout",
     "output_type": "stream",
     "text": [
      "Hello\n"
     ]
    }
   ],
   "source": [
    "# 메서드 안에서 메서드 호출하기\n",
    "# self.메서드()\n",
    "class Person:\n",
    "    def greeting(self):\n",
    "        print('Hello')\n",
    "        \n",
    "    def hello(self):\n",
    "        self.greeting()\n",
    "        \n",
    "james = Person()\n",
    "james.hello()"
   ]
  },
  {
   "cell_type": "code",
   "execution_count": 7,
   "id": "04785427",
   "metadata": {},
   "outputs": [
    {
     "data": {
      "text/plain": [
       "True"
      ]
     },
     "execution_count": 7,
     "metadata": {},
     "output_type": "execute_result"
    }
   ],
   "source": [
    "# 특정 클래스의 인스턴스인지 확인하기\n",
    "# isinstance(인스턴스, 클래스)\n",
    "class Person:\n",
    "    pass\n",
    "james = Person()\n",
    "isinstance(james, Person)"
   ]
  },
  {
   "cell_type": "code",
   "execution_count": 8,
   "id": "dcf67a00",
   "metadata": {},
   "outputs": [],
   "source": [
    "# isinstance는 주로 객체의 자료형을 판단할 때 사용\n",
    "def factorial(n):\n",
    "    if not isinstance(n, int) or n < 0:    # n이 정수일때만 계산하도록 만듦.\n",
    "        return None\n",
    "    if n == 1:\n",
    "        return 1\n",
    "    return n * factorial(n-1)"
   ]
  },
  {
   "cell_type": "code",
   "execution_count": 9,
   "id": "fc76dd93",
   "metadata": {},
   "outputs": [
    {
     "name": "stdout",
     "output_type": "stream",
     "text": [
      "안녕하세요.\n"
     ]
    }
   ],
   "source": [
    "# 속성(attribute) 만들기\n",
    "# class 클래스이름:\n",
    "#     def __init__(self):\n",
    "#         self.속성 = 값\n",
    "class Person:\n",
    "    def __init__(self):\n",
    "        self.hello = '안녕하세요.'\n",
    "    \n",
    "    def greeting(self):\n",
    "        print(self.hello)\n",
    "        \n",
    "james = Person()\n",
    "james.greeting()"
   ]
  },
  {
   "cell_type": "code",
   "execution_count": null,
   "id": "1089c415",
   "metadata": {},
   "outputs": [],
   "source": []
  }
 ],
 "metadata": {
  "kernelspec": {
   "display_name": "Python 3 (ipykernel)",
   "language": "python",
   "name": "python3"
  },
  "language_info": {
   "codemirror_mode": {
    "name": "ipython",
    "version": 3
   },
   "file_extension": ".py",
   "mimetype": "text/x-python",
   "name": "python",
   "nbconvert_exporter": "python",
   "pygments_lexer": "ipython3",
   "version": "3.10.9"
  }
 },
 "nbformat": 4,
 "nbformat_minor": 5
}
