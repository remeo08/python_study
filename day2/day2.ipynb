{
 "cells": [
  {
   "cell_type": "code",
   "execution_count": 1,
   "id": "5feceefb",
   "metadata": {},
   "outputs": [
    {
     "name": "stdout",
     "output_type": "stream",
     "text": [
      "첫 번째 숫자를 입력하세요: 33\n"
     ]
    }
   ],
   "source": [
    "a = input('첫 번째 숫자를 입력하세요: ')"
   ]
  },
  {
   "cell_type": "code",
   "execution_count": 2,
   "id": "d9164661",
   "metadata": {},
   "outputs": [
    {
     "name": "stdout",
     "output_type": "stream",
     "text": [
      "첫 번째 숫자를 입력하세요: 10\n",
      "두 번째 숫자를 입력하세요: 20\n",
      "1020\n"
     ]
    }
   ],
   "source": [
    "a = input('첫 번째 숫자를 입력하세요: ')\n",
    "b = input('두 번째 숫자를 입력하세요: ')\n",
    "\n",
    "print(a + b) \n",
    "# 변수 a와 b는 문자열이기 때문에 덧셈이 적용되지 않음."
   ]
  },
  {
   "cell_type": "code",
   "execution_count": 3,
   "id": "861d3d63",
   "metadata": {},
   "outputs": [
    {
     "data": {
      "text/plain": [
       "str"
      ]
     },
     "execution_count": 3,
     "metadata": {},
     "output_type": "execute_result"
    }
   ],
   "source": [
    "type(a)"
   ]
  },
  {
   "cell_type": "code",
   "execution_count": 5,
   "id": "74f0bc59",
   "metadata": {},
   "outputs": [
    {
     "name": "stdout",
     "output_type": "stream",
     "text": [
      "첫 번째 숫자를 입력하세요: 10\n",
      "두 번째 숫자를 입력하세요: 20\n",
      "30\n"
     ]
    }
   ],
   "source": [
    "a = int(input('첫 번째 숫자를 입력하세요: '))\n",
    "b = int(input('두 번째 숫자를 입력하세요: '))\n",
    "\n",
    "print(a + b) "
   ]
  },
  {
   "cell_type": "code",
   "execution_count": 1,
   "id": "f91d8a28",
   "metadata": {},
   "outputs": [
    {
     "name": "stdout",
     "output_type": "stream",
     "text": [
      "문자열 두 개를 입력하세요: Hello Python\n",
      "Hello\n",
      "Python\n"
     ]
    }
   ],
   "source": [
    "a, b = input('문자열 두 개를 입력하세요: ').split()\n",
    "print(a)\n",
    "print(b)"
   ]
  },
  {
   "cell_type": "code",
   "execution_count": 2,
   "id": "d295cbbe",
   "metadata": {},
   "outputs": [
    {
     "name": "stdout",
     "output_type": "stream",
     "text": [
      "숫자 두 개를 입력하세요: 10 20\n",
      "1020\n"
     ]
    }
   ],
   "source": [
    "a, b = input('숫자 두 개를 입력하세요: ').split()\n",
    "print(a+b)"
   ]
  },
  {
   "cell_type": "code",
   "execution_count": null,
   "id": "0ba3f44f",
   "metadata": {},
   "outputs": [],
   "source": []
  },
  {
   "cell_type": "code",
   "execution_count": 1,
   "id": "2b3c92df",
   "metadata": {},
   "outputs": [
    {
     "name": "stdout",
     "output_type": "stream",
     "text": [
      "숫자 두 개를 입력하세요: 10 20\n",
      "30\n"
     ]
    }
   ],
   "source": [
    "a, b = input('숫자 두 개를 입력하세요: ').split()\n",
    "\n",
    "a = int(a)\n",
    "b = int(b)\n",
    "\n",
    "print(a+b)"
   ]
  },
  {
   "cell_type": "code",
   "execution_count": 3,
   "id": "70919aa7",
   "metadata": {},
   "outputs": [
    {
     "name": "stdout",
     "output_type": "stream",
     "text": [
      "숫자 두 개를 입력하세요: 10 20\n",
      "30\n"
     ]
    }
   ],
   "source": [
    "# map(자료형 지정, input().split()) 로 입력하면 split의 결가를 모두 int로 변환\n",
    "\n",
    "a, b = map(int, input('숫자 두 개를 입력하세요: ').split())\n",
    "\n",
    "print(a + b)"
   ]
  },
  {
   "cell_type": "code",
   "execution_count": 5,
   "id": "79ddb24f",
   "metadata": {},
   "outputs": [
    {
     "name": "stdout",
     "output_type": "stream",
     "text": [
      "숫자 두 개를 입력하세요: 10,20\n",
      "30\n"
     ]
    }
   ],
   "source": [
    "a, b = map(int, input('숫자 두 개를 입력하세요: ').split(','))\n",
    "print(a + b)"
   ]
  },
  {
   "cell_type": "code",
   "execution_count": 7,
   "id": "febc8c1d",
   "metadata": {},
   "outputs": [
    {
     "name": "stdout",
     "output_type": "stream",
     "text": [
      "정수 세 개를 입력하세요: 10 20 30\n",
      "60\n"
     ]
    }
   ],
   "source": [
    "a, b, c = map(int, input('정수 세 개를 입력하세요: '). split())\n",
    "print(a + b + c)"
   ]
  },
  {
   "cell_type": "code",
   "execution_count": 12,
   "id": "3297095f",
   "metadata": {},
   "outputs": [
    {
     "name": "stdout",
     "output_type": "stream",
     "text": [
      "83 92 87 90\n",
      "88\n"
     ]
    }
   ],
   "source": [
    "a, b, c, d = map(int, input().split())\n",
    "print(int((a + b + c + d)/4))"
   ]
  },
  {
   "cell_type": "code",
   "execution_count": 15,
   "id": "2fc917f5",
   "metadata": {},
   "outputs": [
    {
     "name": "stdout",
     "output_type": "stream",
     "text": [
      "50 100 None\n"
     ]
    }
   ],
   "source": [
    "a = 50;\n",
    "b = 100;\n",
    "c = None\n",
    "print(a, b, c)"
   ]
  },
  {
   "cell_type": "code",
   "execution_count": 16,
   "id": "ee36ed02",
   "metadata": {},
   "outputs": [
    {
     "name": "stdout",
     "output_type": "stream",
     "text": [
      "1 2 3\n"
     ]
    }
   ],
   "source": [
    "# 7강 시작\n",
    "print(1, 2, 3)"
   ]
  },
  {
   "cell_type": "code",
   "execution_count": 17,
   "id": "6c214380",
   "metadata": {},
   "outputs": [
    {
     "name": "stdout",
     "output_type": "stream",
     "text": [
      "Hello Python\n"
     ]
    }
   ],
   "source": [
    "print('Hello', 'Python')"
   ]
  },
  {
   "cell_type": "code",
   "execution_count": 18,
   "id": "76743797",
   "metadata": {},
   "outputs": [
    {
     "name": "stdout",
     "output_type": "stream",
     "text": [
      "1, 2, 3\n"
     ]
    }
   ],
   "source": [
    "# sep(separator)\n",
    "print(1, 2, 3, sep = ', ')"
   ]
  },
  {
   "cell_type": "code",
   "execution_count": 19,
   "id": "d4d9939e",
   "metadata": {},
   "outputs": [
    {
     "name": "stdout",
     "output_type": "stream",
     "text": [
      "1,2,3\n"
     ]
    }
   ],
   "source": [
    "print(1, 2, 3, sep=',')"
   ]
  },
  {
   "cell_type": "code",
   "execution_count": 20,
   "id": "0e25bcf6",
   "metadata": {},
   "outputs": [
    {
     "name": "stdout",
     "output_type": "stream",
     "text": [
      "HelloPython\n"
     ]
    }
   ],
   "source": [
    "print('Hello', 'Python', sep = '')"
   ]
  },
  {
   "cell_type": "code",
   "execution_count": 21,
   "id": "707d1637",
   "metadata": {},
   "outputs": [
    {
     "name": "stdout",
     "output_type": "stream",
     "text": [
      "1920x1080\n"
     ]
    }
   ],
   "source": [
    "print(1920, 1080, sep='x')"
   ]
  },
  {
   "cell_type": "code",
   "execution_count": 22,
   "id": "60903f8d",
   "metadata": {},
   "outputs": [
    {
     "name": "stdout",
     "output_type": "stream",
     "text": [
      "1\n",
      "2\n",
      "3\n"
     ]
    }
   ],
   "source": [
    "# print할 때 줄바꿈 하는 법 : \\n(띄어쓰기 없이) : 출력 결과를 제어하나 화면 출력은 안 되는 제어 문자\n",
    "\n",
    "print(1, 2, 3, sep='\\n')"
   ]
  },
  {
   "cell_type": "code",
   "execution_count": 24,
   "id": "6ca5c0f4",
   "metadata": {},
   "outputs": [
    {
     "name": "stdout",
     "output_type": "stream",
     "text": [
      "1\n",
      "2\n",
      "3\n"
     ]
    }
   ],
   "source": [
    "print('1\\n2\\n3')"
   ]
  },
  {
   "cell_type": "code",
   "execution_count": 25,
   "id": "ad04428e",
   "metadata": {},
   "outputs": [
    {
     "name": "stdout",
     "output_type": "stream",
     "text": [
      "123\n"
     ]
    }
   ],
   "source": [
    "print(1, end='')\n",
    "print(2, end='')\n",
    "print(3)"
   ]
  },
  {
   "cell_type": "code",
   "execution_count": 27,
   "id": "7486ca9e",
   "metadata": {},
   "outputs": [
    {
     "name": "stdout",
     "output_type": "stream",
     "text": [
      "2000/10/27 11:43:59\n"
     ]
    }
   ],
   "source": [
    "year = 2000\n",
    "month = 10\n",
    "day = 27\n",
    "hour = 11\n",
    "minute =43\n",
    "second = 59\n",
    "\n",
    "print(year, month, day, sep = '/', end = ' ')\n",
    "print(hour, minute, second, sep = ':')"
   ]
  },
  {
   "cell_type": "code",
   "execution_count": 1,
   "id": "02d7c5dc",
   "metadata": {},
   "outputs": [
    {
     "name": "stdout",
     "output_type": "stream",
     "text": [
      "1999 12 31 10 37 21\n",
      "1999-12-31T10:37:21\n"
     ]
    }
   ],
   "source": [
    "year, month, day, hour, minute, second = map(int, input().split())\n",
    "\n",
    "print(year, month, day, sep='-', end='T')\n",
    "print(hour, minute, second, sep=':')"
   ]
  },
  {
   "cell_type": "code",
   "execution_count": 32,
   "id": "c749425f",
   "metadata": {},
   "outputs": [
    {
     "data": {
      "text/plain": [
       "True"
      ]
     },
     "execution_count": 32,
     "metadata": {},
     "output_type": "execute_result"
    }
   ],
   "source": [
    "# 8강 시작\n",
    "True"
   ]
  },
  {
   "cell_type": "code",
   "execution_count": 33,
   "id": "b9060bc6",
   "metadata": {},
   "outputs": [
    {
     "data": {
      "text/plain": [
       "False"
      ]
     },
     "execution_count": 33,
     "metadata": {},
     "output_type": "execute_result"
    }
   ],
   "source": [
    "False"
   ]
  },
  {
   "cell_type": "code",
   "execution_count": 34,
   "id": "955cea31",
   "metadata": {},
   "outputs": [
    {
     "data": {
      "text/plain": [
       "True"
      ]
     },
     "execution_count": 34,
     "metadata": {},
     "output_type": "execute_result"
    }
   ],
   "source": [
    "3 > 1"
   ]
  },
  {
   "cell_type": "code",
   "execution_count": 35,
   "id": "cc5fcb52",
   "metadata": {},
   "outputs": [
    {
     "data": {
      "text/plain": [
       "True"
      ]
     },
     "execution_count": 35,
     "metadata": {},
     "output_type": "execute_result"
    }
   ],
   "source": [
    "10 == 10"
   ]
  },
  {
   "cell_type": "code",
   "execution_count": 36,
   "id": "1cd3b507",
   "metadata": {},
   "outputs": [
    {
     "data": {
      "text/plain": [
       "True"
      ]
     },
     "execution_count": 36,
     "metadata": {},
     "output_type": "execute_result"
    }
   ],
   "source": [
    "10 != 5"
   ]
  },
  {
   "cell_type": "code",
   "execution_count": 37,
   "id": "6e8da740",
   "metadata": {},
   "outputs": [
    {
     "data": {
      "text/plain": [
       "True"
      ]
     },
     "execution_count": 37,
     "metadata": {},
     "output_type": "execute_result"
    }
   ],
   "source": [
    "'Python' == 'Python'"
   ]
  },
  {
   "cell_type": "code",
   "execution_count": 38,
   "id": "27d6e865",
   "metadata": {},
   "outputs": [
    {
     "data": {
      "text/plain": [
       "False"
      ]
     },
     "execution_count": 38,
     "metadata": {},
     "output_type": "execute_result"
    }
   ],
   "source": [
    "'Python' == 'python'    # 문자열 대소문자도 구분해서 비교함"
   ]
  },
  {
   "cell_type": "code",
   "execution_count": 40,
   "id": "95285973",
   "metadata": {},
   "outputs": [
    {
     "data": {
      "text/plain": [
       "True"
      ]
     },
     "execution_count": 40,
     "metadata": {},
     "output_type": "execute_result"
    }
   ],
   "source": [
    "1 == 1.0"
   ]
  },
  {
   "cell_type": "code",
   "execution_count": 41,
   "id": "b9b60074",
   "metadata": {
    "scrolled": true
   },
   "outputs": [
    {
     "name": "stderr",
     "output_type": "stream",
     "text": [
      "<>:1: SyntaxWarning: \"is\" with a literal. Did you mean \"==\"?\n",
      "<>:1: SyntaxWarning: \"is\" with a literal. Did you mean \"==\"?\n",
      "C:\\Users\\wiwmn\\AppData\\Local\\Temp\\ipykernel_10776\\3336455986.py:1: SyntaxWarning: \"is\" with a literal. Did you mean \"==\"?\n",
      "  1 is 1.0\n"
     ]
    },
    {
     "data": {
      "text/plain": [
       "False"
      ]
     },
     "execution_count": 41,
     "metadata": {},
     "output_type": "execute_result"
    }
   ],
   "source": [
    "1 is 1.0"
   ]
  },
  {
   "cell_type": "code",
   "execution_count": 48,
   "id": "3c542bab",
   "metadata": {},
   "outputs": [
    {
     "name": "stderr",
     "output_type": "stream",
     "text": [
      "<>:1: SyntaxWarning: \"is not\" with a literal. Did you mean \"!=\"?\n",
      "<>:1: SyntaxWarning: \"is not\" with a literal. Did you mean \"!=\"?\n",
      "C:\\Users\\wiwmn\\AppData\\Local\\Temp\\ipykernel_10776\\2095918375.py:1: SyntaxWarning: \"is not\" with a literal. Did you mean \"!=\"?\n",
      "  1 is not 1.0\n"
     ]
    },
    {
     "data": {
      "text/plain": [
       "True"
      ]
     },
     "execution_count": 48,
     "metadata": {},
     "output_type": "execute_result"
    }
   ],
   "source": [
    "1 is not 1.0"
   ]
  },
  {
   "cell_type": "code",
   "execution_count": 44,
   "id": "8933b6fb",
   "metadata": {},
   "outputs": [
    {
     "data": {
      "text/plain": [
       "2647383867632"
      ]
     },
     "execution_count": 44,
     "metadata": {},
     "output_type": "execute_result"
    }
   ],
   "source": [
    "id(1)"
   ]
  },
  {
   "cell_type": "code",
   "execution_count": 45,
   "id": "35bb3c81",
   "metadata": {},
   "outputs": [
    {
     "data": {
      "text/plain": [
       "2647466866192"
      ]
     },
     "execution_count": 45,
     "metadata": {},
     "output_type": "execute_result"
    }
   ],
   "source": [
    "id(1.0)"
   ]
  },
  {
   "cell_type": "code",
   "execution_count": 46,
   "id": "9000b8ad",
   "metadata": {},
   "outputs": [
    {
     "name": "stderr",
     "output_type": "stream",
     "text": [
      "<>:2: SyntaxWarning: \"is\" with a literal. Did you mean \"==\"?\n",
      "<>:2: SyntaxWarning: \"is\" with a literal. Did you mean \"==\"?\n",
      "C:\\Users\\wiwmn\\AppData\\Local\\Temp\\ipykernel_10776\\632354002.py:2: SyntaxWarning: \"is\" with a literal. Did you mean \"==\"?\n",
      "  a is -5\n"
     ]
    },
    {
     "data": {
      "text/plain": [
       "True"
      ]
     },
     "execution_count": 46,
     "metadata": {},
     "output_type": "execute_result"
    }
   ],
   "source": [
    "a = -5\n",
    "a is -5"
   ]
  },
  {
   "cell_type": "code",
   "execution_count": 50,
   "id": "d159c7c6",
   "metadata": {},
   "outputs": [
    {
     "name": "stderr",
     "output_type": "stream",
     "text": [
      "<>:2: SyntaxWarning: \"is\" with a literal. Did you mean \"==\"?\n",
      "<>:2: SyntaxWarning: \"is\" with a literal. Did you mean \"==\"?\n",
      "C:\\Users\\wiwmn\\AppData\\Local\\Temp\\ipykernel_10776\\782153807.py:2: SyntaxWarning: \"is\" with a literal. Did you mean \"==\"?\n",
      "  a is -6\n"
     ]
    },
    {
     "data": {
      "text/plain": [
       "False"
      ]
     },
     "execution_count": 50,
     "metadata": {},
     "output_type": "execute_result"
    }
   ],
   "source": [
    "a = -6\n",
    "a is -6"
   ]
  },
  {
   "cell_type": "code",
   "execution_count": 51,
   "id": "cca56a7b",
   "metadata": {},
   "outputs": [
    {
     "ename": "NameError",
     "evalue": "name 'true' is not defined",
     "output_type": "error",
     "traceback": [
      "\u001b[1;31m---------------------------------------------------------------------------\u001b[0m",
      "\u001b[1;31mNameError\u001b[0m                                 Traceback (most recent call last)",
      "Cell \u001b[1;32mIn[51], line 1\u001b[0m\n\u001b[1;32m----> 1\u001b[0m \u001b[43mtrue\u001b[49m \u001b[38;5;129;01mand\u001b[39;00m true\n",
      "\u001b[1;31mNameError\u001b[0m: name 'true' is not defined"
     ]
    }
   ],
   "source": [
    "# 논리 연산자\n",
    "True and True      # True는 t가 대문자여야 인식이 된다"
   ]
  },
  {
   "cell_type": "code",
   "execution_count": 52,
   "id": "76bf902f",
   "metadata": {},
   "outputs": [
    {
     "data": {
      "text/plain": [
       "False"
      ]
     },
     "execution_count": 52,
     "metadata": {},
     "output_type": "execute_result"
    }
   ],
   "source": [
    "True and False"
   ]
  },
  {
   "cell_type": "code",
   "execution_count": 56,
   "id": "c080dba4",
   "metadata": {},
   "outputs": [
    {
     "data": {
      "text/plain": [
       "True"
      ]
     },
     "execution_count": 56,
     "metadata": {},
     "output_type": "execute_result"
    }
   ],
   "source": [
    "True or True"
   ]
  },
  {
   "cell_type": "code",
   "execution_count": 55,
   "id": "3dc6fa4a",
   "metadata": {},
   "outputs": [
    {
     "data": {
      "text/plain": [
       "True"
      ]
     },
     "execution_count": 55,
     "metadata": {},
     "output_type": "execute_result"
    }
   ],
   "source": [
    "True or False"
   ]
  },
  {
   "cell_type": "code",
   "execution_count": 57,
   "id": "990f4faa",
   "metadata": {},
   "outputs": [
    {
     "data": {
      "text/plain": [
       "True"
      ]
     },
     "execution_count": 57,
     "metadata": {},
     "output_type": "execute_result"
    }
   ],
   "source": [
    "False or True"
   ]
  },
  {
   "cell_type": "code",
   "execution_count": 58,
   "id": "25d4f2f7",
   "metadata": {},
   "outputs": [
    {
     "data": {
      "text/plain": [
       "False"
      ]
     },
     "execution_count": 58,
     "metadata": {},
     "output_type": "execute_result"
    }
   ],
   "source": [
    "False or False"
   ]
  },
  {
   "cell_type": "code",
   "execution_count": 59,
   "id": "7af8c7a2",
   "metadata": {},
   "outputs": [
    {
     "data": {
      "text/plain": [
       "False"
      ]
     },
     "execution_count": 59,
     "metadata": {},
     "output_type": "execute_result"
    }
   ],
   "source": [
    "not True"
   ]
  },
  {
   "cell_type": "code",
   "execution_count": 60,
   "id": "2f8443c1",
   "metadata": {},
   "outputs": [
    {
     "data": {
      "text/plain": [
       "True"
      ]
     },
     "execution_count": 60,
     "metadata": {},
     "output_type": "execute_result"
    }
   ],
   "source": [
    "not True and False or not False      # 논리연산자 not > and > or 순으로 판단"
   ]
  },
  {
   "cell_type": "code",
   "execution_count": 61,
   "id": "ece028e9",
   "metadata": {},
   "outputs": [
    {
     "data": {
      "text/plain": [
       "False"
      ]
     },
     "execution_count": 61,
     "metadata": {},
     "output_type": "execute_result"
    }
   ],
   "source": [
    "not 10 > 5       # 논리연산자 + 비교연산자의 경우 비교연산자(is, is not, == !=, <, >) 먼저 판단"
   ]
  },
  {
   "cell_type": "code",
   "execution_count": 66,
   "id": "9393b28e",
   "metadata": {},
   "outputs": [
    {
     "data": {
      "text/plain": [
       "False"
      ]
     },
     "execution_count": 66,
     "metadata": {},
     "output_type": "execute_result"
    }
   ],
   "source": [
    "bool(0)      # bool()  정수 0 , 실수 0.0 외의 모든 숫자 / 빈 문자열 '', \"\" 를 제외한 모든 문자열은 true"
   ]
  },
  {
   "cell_type": "code",
   "execution_count": 63,
   "id": "4ad81029",
   "metadata": {},
   "outputs": [
    {
     "data": {
      "text/plain": [
       "True"
      ]
     },
     "execution_count": 63,
     "metadata": {},
     "output_type": "execute_result"
    }
   ],
   "source": [
    "bool(1)"
   ]
  },
  {
   "cell_type": "code",
   "execution_count": 64,
   "id": "51b77724",
   "metadata": {},
   "outputs": [
    {
     "data": {
      "text/plain": [
       "True"
      ]
     },
     "execution_count": 64,
     "metadata": {},
     "output_type": "execute_result"
    }
   ],
   "source": [
    "bool(1.5)"
   ]
  },
  {
   "cell_type": "code",
   "execution_count": 65,
   "id": "3bf75fc9",
   "metadata": {},
   "outputs": [
    {
     "data": {
      "text/plain": [
       "True"
      ]
     },
     "execution_count": 65,
     "metadata": {},
     "output_type": "execute_result"
    }
   ],
   "source": [
    "bool('False')"
   ]
  },
  {
   "cell_type": "code",
   "execution_count": 67,
   "id": "e3c6bff6",
   "metadata": {},
   "outputs": [
    {
     "name": "stdout",
     "output_type": "stream",
     "text": [
      "False\n"
     ]
    }
   ],
   "source": [
    "# 8.4 연습문제\n",
    "korean = 92\n",
    "english = 47\n",
    "mathematics = 86\n",
    "science = 81\n",
    "\n",
    "print(korean >= 50 and english >= 50 and mathematics >= 50 and science >= 50)"
   ]
  },
  {
   "cell_type": "code",
   "execution_count": 71,
   "id": "d903721d",
   "metadata": {},
   "outputs": [
    {
     "name": "stdout",
     "output_type": "stream",
     "text": [
      "90 81 86 80\n",
      "True\n"
     ]
    }
   ],
   "source": [
    "# 8.5 심사문제\n",
    "k, e, m, s = map(int,input().split())\n",
    "print(k >= 90 and e > 80 and m > 85 and s >= 80)"
   ]
  },
  {
   "cell_type": "code",
   "execution_count": 73,
   "id": "64e0b4ad",
   "metadata": {},
   "outputs": [
    {
     "data": {
      "text/plain": [
       "'Hello, world!'"
      ]
     },
     "execution_count": 73,
     "metadata": {},
     "output_type": "execute_result"
    }
   ],
   "source": [
    "# 9강 시작\n",
    "hello = 'Hello, world!'\n",
    "hello"
   ]
  },
  {
   "cell_type": "code",
   "execution_count": 75,
   "id": "1ef7808f",
   "metadata": {},
   "outputs": [
    {
     "data": {
      "text/plain": [
       "'안녕하세요'"
      ]
     },
     "execution_count": 75,
     "metadata": {},
     "output_type": "execute_result"
    }
   ],
   "source": [
    "hello = '안녕하세요'\n",
    "hello"
   ]
  },
  {
   "cell_type": "code",
   "execution_count": 76,
   "id": "8f7071be",
   "metadata": {},
   "outputs": [
    {
     "data": {
      "text/plain": [
       "'Hello, world'"
      ]
     },
     "execution_count": 76,
     "metadata": {},
     "output_type": "execute_result"
    }
   ],
   "source": [
    "hello = \"Hello, world\"\n",
    "hello"
   ]
  },
  {
   "cell_type": "code",
   "execution_count": 78,
   "id": "3b6126ae",
   "metadata": {},
   "outputs": [
    {
     "data": {
      "text/plain": [
       "'Hello, world'"
      ]
     },
     "execution_count": 78,
     "metadata": {},
     "output_type": "execute_result"
    }
   ],
   "source": [
    "hello = '''Hello, world'''\n",
    "hello"
   ]
  },
  {
   "cell_type": "code",
   "execution_count": 80,
   "id": "05fb70ad",
   "metadata": {},
   "outputs": [
    {
     "data": {
      "text/plain": [
       "'Hello, world'"
      ]
     },
     "execution_count": 80,
     "metadata": {},
     "output_type": "execute_result"
    }
   ],
   "source": [
    "hello = \"\"\"Hello, world\"\"\"\n",
    "hello"
   ]
  },
  {
   "cell_type": "code",
   "execution_count": 81,
   "id": "fd210471",
   "metadata": {},
   "outputs": [
    {
     "data": {
      "text/plain": [
       "'Hello, world\\n안녕하세요\\nPython입니다.'"
      ]
     },
     "execution_count": 81,
     "metadata": {},
     "output_type": "execute_result"
    }
   ],
   "source": [
    "hello = '''Hello, world\n",
    "안녕하세요\n",
    "Python입니다.'''\n",
    "hello"
   ]
  },
  {
   "cell_type": "code",
   "execution_count": 82,
   "id": "2ff6caa0",
   "metadata": {},
   "outputs": [
    {
     "name": "stdout",
     "output_type": "stream",
     "text": [
      "Hello, world\n",
      "안녕하세요\n",
      "Python입니다.\n"
     ]
    }
   ],
   "source": [
    "hello = '''Hello, world\n",
    "안녕하세요\n",
    "Python입니다.'''\n",
    "print(hello)"
   ]
  },
  {
   "cell_type": "code",
   "execution_count": 83,
   "id": "559c4c04",
   "metadata": {},
   "outputs": [
    {
     "data": {
      "text/plain": [
       "'nice to meet you\\nPhthon'"
      ]
     },
     "execution_count": 83,
     "metadata": {},
     "output_type": "execute_result"
    }
   ],
   "source": [
    "hello = \"\"\"nice to meet you\n",
    "Phthon\"\"\"\n",
    "hello"
   ]
  },
  {
   "cell_type": "code",
   "execution_count": 84,
   "id": "f58ee0a8",
   "metadata": {},
   "outputs": [
    {
     "name": "stdout",
     "output_type": "stream",
     "text": [
      "\"Hello, world\"\n",
      "'안녕하세요'\n",
      "Python입니다.\n"
     ]
    }
   ],
   "source": [
    "hello = '''\"Hello, world\"\n",
    "'안녕하세요'\n",
    "Python입니다.'''\n",
    "print(hello)"
   ]
  },
  {
   "cell_type": "code",
   "execution_count": 87,
   "id": "5d981ec1",
   "metadata": {},
   "outputs": [
    {
     "name": "stdout",
     "output_type": "stream",
     "text": [
      "It's such a nice day\n",
      "to start Python.\n",
      "'Isn't it?'\n"
     ]
    }
   ],
   "source": [
    "hello = \"\"\"It's such a nice day\n",
    "to start Python.\n",
    "'Isn't it?'\"\"\"\n",
    "print(hello)"
   ]
  },
  {
   "cell_type": "code",
   "execution_count": 89,
   "id": "0fa12b5b",
   "metadata": {},
   "outputs": [
    {
     "data": {
      "text/plain": [
       "'Python isn\\t difficult'"
      ]
     },
     "execution_count": 89,
     "metadata": {},
     "output_type": "execute_result"
    }
   ],
   "source": [
    "'Python isn\\t difficult'"
   ]
  },
  {
   "cell_type": "code",
   "execution_count": 91,
   "id": "c203abc7",
   "metadata": {},
   "outputs": [
    {
     "data": {
      "text/plain": [
       "'\"Hello\", Python!'"
      ]
     },
     "execution_count": 91,
     "metadata": {},
     "output_type": "execute_result"
    }
   ],
   "source": [
    "\"\"\"\"Hello\", Python!\"\"\""
   ]
  },
  {
   "cell_type": "code",
   "execution_count": 92,
   "id": "c61035af",
   "metadata": {},
   "outputs": [
    {
     "name": "stdout",
     "output_type": "stream",
     "text": [
      "Python is a programming language that lets you work quickly\n",
      "and\n",
      "integrate systems more effectively.\n"
     ]
    }
   ],
   "source": [
    "# 9.3 연습문제\n",
    "s = \"\"\"Python is a programming language that lets you work quickly\n",
    "and\n",
    "integrate systems more effectively.\"\"\"\n",
    "print(s)"
   ]
  },
  {
   "cell_type": "code",
   "execution_count": 94,
   "id": "17c93094",
   "metadata": {},
   "outputs": [
    {
     "name": "stdout",
     "output_type": "stream",
     "text": [
      "'Python' is a \"progrmming language\"\n",
      "that lets you work quickly\n",
      "and\n",
      "integrate systems more effectively.\n"
     ]
    }
   ],
   "source": [
    "# 9.4 심사문제\n",
    "s = \"\"\"'Python' is a \"progrmming language\"\n",
    "that lets you work quickly\n",
    "and\n",
    "integrate systems more effectively.\"\"\"\n",
    "print(s)"
   ]
  }
 ],
 "metadata": {
  "kernelspec": {
   "display_name": "Python 3 (ipykernel)",
   "language": "python",
   "name": "python3"
  },
  "language_info": {
   "codemirror_mode": {
    "name": "ipython",
    "version": 3
   },
   "file_extension": ".py",
   "mimetype": "text/x-python",
   "name": "python",
   "nbconvert_exporter": "python",
   "pygments_lexer": "ipython3",
   "version": "3.10.9"
  }
 },
 "nbformat": 4,
 "nbformat_minor": 5
}
