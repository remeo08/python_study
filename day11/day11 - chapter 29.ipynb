{
 "cells": [
  {
   "cell_type": "code",
   "execution_count": 2,
   "id": "9eba6448",
   "metadata": {},
   "outputs": [
    {
     "name": "stdout",
     "output_type": "stream",
     "text": [
      "Hello, world\n"
     ]
    }
   ],
   "source": [
    "# 29강 시작\n",
    "# def 함수이름():     def(define)\n",
    "#    코드\n",
    "def hello():\n",
    "    print('Hello, world')\n",
    "hello()"
   ]
  },
  {
   "cell_type": "code",
   "execution_count": 3,
   "id": "2a56f928",
   "metadata": {},
   "outputs": [],
   "source": [
    "# 빈 함수 만들기\n",
    "def hello():\n",
    "    pass"
   ]
  },
  {
   "cell_type": "code",
   "execution_count": 5,
   "id": "0569078e",
   "metadata": {},
   "outputs": [
    {
     "name": "stdout",
     "output_type": "stream",
     "text": [
      "30\n"
     ]
    }
   ],
   "source": [
    "# 매개변수 = parameter\n",
    "# def 함수이름(매개변수1, 매개변수2):\n",
    "#    코드\n",
    "def add(a,b):\n",
    "    print(a+b)\n",
    "add(10, 20)   # 함수를 호출할 때 넣는 값을 인수(argument)라고 부른다."
   ]
  },
  {
   "cell_type": "code",
   "execution_count": 8,
   "id": "78219601",
   "metadata": {},
   "outputs": [
    {
     "name": "stdout",
     "output_type": "stream",
     "text": [
      "30\n",
      "이 함수는 a와 b를 더한 뒤 결과를 반환하는 함수입니다.\n",
      "Help on function add in module __main__:\n",
      "\n",
      "add(a, b)\n",
      "    이 함수는 a와 b를 더한 뒤 결과를 반환하는 함수입니다.\n",
      "\n"
     ]
    }
   ],
   "source": [
    "# 독스트링(docstrings, 문서화 문자열) : 함수의 :(콜론) 바로 다음 줄에 \"\"\" \"\"\"(큰따옴표 세 개)로 문자열 입력하면 함수에 대한 설명 넣을 수 있음.\n",
    "# def 함수이름(매개변수):\n",
    "# \"\"\"독스트링\"\"\"\n",
    "# 코드\n",
    "\n",
    "# def 함수이름(매개변수):\n",
    "# \"\"\"\n",
    "# 여러 줄로 된\n",
    "# 독스트링\n",
    "# \"\"\"\n",
    "# 코드\n",
    "\n",
    "def add(a,b):\n",
    "    \"\"\"이 함수는 a와 b를 더한 뒤 결과를 반환하는 함수입니다.\"\"\"\n",
    "    return a + b\n",
    "\n",
    "x = add(10, 20)\n",
    "print(x)\n",
    "\n",
    "print(add.__doc__)\n",
    "\n",
    "help(add)"
   ]
  },
  {
   "cell_type": "code",
   "execution_count": 9,
   "id": "f78338ab",
   "metadata": {},
   "outputs": [],
   "source": [
    "# 함수의 결과 반환하기\n",
    "# return : 값을 함수 바깥으로 반환함\n",
    "# def 함수이름(매개변수):\n",
    "#    return 반환값\n",
    "\n",
    "def add(a,b):\n",
    "    return a + b"
   ]
  },
  {
   "cell_type": "code",
   "execution_count": 10,
   "id": "4113c848",
   "metadata": {},
   "outputs": [
    {
     "data": {
      "text/plain": [
       "30"
      ]
     },
     "execution_count": 10,
     "metadata": {},
     "output_type": "execute_result"
    }
   ],
   "source": [
    "x = add(10,20)\n",
    "x"
   ]
  },
  {
   "cell_type": "code",
   "execution_count": 12,
   "id": "2ba92787",
   "metadata": {},
   "outputs": [
    {
     "name": "stdout",
     "output_type": "stream",
     "text": [
      "5입니다.\n"
     ]
    }
   ],
   "source": [
    "# return으로 함수 중간에 빠져나오기\n",
    "def not_ten(a):\n",
    "    if a == 10:\n",
    "        return\n",
    "    print(a, '입니다.', sep='')\n",
    "\n",
    "not_ten(5)\n",
    "not_ten(10)"
   ]
  },
  {
   "cell_type": "code",
   "execution_count": 15,
   "id": "7e7261a7",
   "metadata": {},
   "outputs": [
    {
     "data": {
      "text/plain": [
       "-10"
      ]
     },
     "execution_count": 15,
     "metadata": {},
     "output_type": "execute_result"
    }
   ],
   "source": [
    "# 함수에서 값 여러 개 반환하기\n",
    "# def 함수이름(매개변수):\n",
    "#    return 반환값1, 반환값2\n",
    "\n",
    "def add_sub(a, b):\n",
    "    return a + b, a - b\n",
    "\n",
    "x, y = add_sub(10, 20)\n",
    "x\n",
    "y"
   ]
  },
  {
   "cell_type": "code",
   "execution_count": 16,
   "id": "09ecc51e",
   "metadata": {},
   "outputs": [
    {
     "data": {
      "text/plain": [
       "(30, -10)"
      ]
     },
     "execution_count": 16,
     "metadata": {},
     "output_type": "execute_result"
    }
   ],
   "source": [
    "# return으로 값을 여러 개 반환하면 튜플로 반환됨.\n",
    "# 튜플이 변수 여러 개에 할당되는 특성을 이용한 것\n",
    "x = add_sub(10, 20)\n",
    "x"
   ]
  },
  {
   "cell_type": "code",
   "execution_count": 17,
   "id": "aa05c93e",
   "metadata": {},
   "outputs": [
    {
     "name": "stdout",
     "output_type": "stream",
     "text": [
      "30\n",
      "200\n"
     ]
    }
   ],
   "source": [
    "# 함수 여러 개의 호출 과정 스택 다이어그램으로 알아보기\n",
    "# 스택(a.k.a. 접시 쌓기): 접시 쌓아서 꺼낼 때는 위쪽부터 차례대로 꺼내는 방식\n",
    "\n",
    "def mul(a, b):\n",
    "    c = a * b\n",
    "    return c\n",
    "\n",
    "def add(a, b):\n",
    "    c = a + b\n",
    "    print(c)\n",
    "    d = mul(a, b)\n",
    "    print(d)\n",
    "    \n",
    "x = 10\n",
    "y = 20\n",
    "add(x, y)"
   ]
  },
  {
   "cell_type": "code",
   "execution_count": 18,
   "id": "232d2f12",
   "metadata": {},
   "outputs": [
    {
     "name": "stdout",
     "output_type": "stream",
     "text": [
      "몫: 3, 나머지: 1\n"
     ]
    }
   ],
   "source": [
    "# 29.7 연습문제\n",
    "x = 10\n",
    "y = 3\n",
    "def get_quotient_remainder(a, b):\n",
    "    return a//b, a%b\n",
    "quotient, remainder = get_quotient_remainder(x, y)\n",
    "print('몫: {0}, 나머지: {1}'.format(quotient, remainder))"
   ]
  },
  {
   "cell_type": "code",
   "execution_count": 21,
   "id": "09a289f4",
   "metadata": {},
   "outputs": [
    {
     "name": "stdout",
     "output_type": "stream",
     "text": [
      "10 20\n",
      "덧셈: 30, 뺄셈: -10, 곱셈: 200, 나눗셈: 0.5\n"
     ]
    }
   ],
   "source": [
    "# 29.8 심사문제\n",
    "a, b = map(int, input().split())\n",
    "def cal(a, b):\n",
    "    return a+b , a-b, a*b, float(a/b)\n",
    "plus, minus, mul, divide = cal(a, b)\n",
    "print('덧셈: {0}, 뺄셈: {1}, 곱셈: {2}, 나눗셈: {3}'.format(plus,minus, mul,divide))"
   ]
  },
  {
   "cell_type": "code",
   "execution_count": null,
   "id": "d71b8d6b",
   "metadata": {},
   "outputs": [],
   "source": []
  }
 ],
 "metadata": {
  "kernelspec": {
   "display_name": "Python 3 (ipykernel)",
   "language": "python",
   "name": "python3"
  },
  "language_info": {
   "codemirror_mode": {
    "name": "ipython",
    "version": 3
   },
   "file_extension": ".py",
   "mimetype": "text/x-python",
   "name": "python",
   "nbconvert_exporter": "python",
   "pygments_lexer": "ipython3",
   "version": "3.10.9"
  }
 },
 "nbformat": 4,
 "nbformat_minor": 5
}
