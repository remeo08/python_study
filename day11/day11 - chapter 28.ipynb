{
 "cells": [
  {
   "cell_type": "code",
   "execution_count": 4,
   "id": "a1f7fd5e",
   "metadata": {},
   "outputs": [
    {
     "name": "stdout",
     "output_type": "stream",
     "text": [
      "단어를 입력하세요: level\n",
      "True\n"
     ]
    }
   ],
   "source": [
    "# 28강 시작\n",
    "# 회문: 거꾸로 읽어도 같은 단어, 문장  ex) 기러기, 스위스, level, sos\n",
    "# 반복문으로 문자 검사하기\n",
    "word = input('단어를 입력하세요: ')\n",
    "is_palindrome = True   # 회문 판별값을 저장할 변수, 초깃값은 True\n",
    "for i in range(len(word) // 2):\n",
    "    if word[i] != word[-1 -i]:\n",
    "        is_palindrome = False\n",
    "        break\n",
    "print(is_palindrome)"
   ]
  },
  {
   "cell_type": "code",
   "execution_count": 8,
   "id": "a9f0b62c",
   "metadata": {},
   "outputs": [
    {
     "name": "stdout",
     "output_type": "stream",
     "text": [
      "단어를 입력하세요: sos\n",
      "True\n"
     ]
    }
   ],
   "source": [
    "# 시퀀스 뒤집기로 문자 검사\n",
    "word = input('단어를 입력하세요: ')\n",
    "print(word == word[::-1])"
   ]
  },
  {
   "cell_type": "code",
   "execution_count": 9,
   "id": "461fd4c1",
   "metadata": {},
   "outputs": [
    {
     "data": {
      "text/plain": [
       "True"
      ]
     },
     "execution_count": 9,
     "metadata": {},
     "output_type": "execute_result"
    }
   ],
   "source": [
    "# reversed 사용하기\n",
    "word = 'level'\n",
    "list(word) == list(reversed(word))"
   ]
  },
  {
   "cell_type": "code",
   "execution_count": 11,
   "id": "cf4a4b8b",
   "metadata": {},
   "outputs": [
    {
     "data": {
      "text/plain": [
       "['l', 'e', 'v', 'e', 'l']"
      ]
     },
     "execution_count": 11,
     "metadata": {},
     "output_type": "execute_result"
    }
   ],
   "source": [
    "list(word)\n",
    "list(reversed(word))"
   ]
  },
  {
   "cell_type": "code",
   "execution_count": 12,
   "id": "adc38ced",
   "metadata": {},
   "outputs": [
    {
     "data": {
      "text/plain": [
       "True"
      ]
     },
     "execution_count": 12,
     "metadata": {},
     "output_type": "execute_result"
    }
   ],
   "source": [
    "# 문자열 join 메서드와 reversed\n",
    "word = 'level'\n",
    "word == ''.join(reversed(word))"
   ]
  },
  {
   "cell_type": "code",
   "execution_count": 13,
   "id": "4642c778",
   "metadata": {},
   "outputs": [
    {
     "name": "stdout",
     "output_type": "stream",
     "text": [
      "he\n",
      "el\n",
      "ll\n",
      "lo\n"
     ]
    }
   ],
   "source": [
    "# N-gram : 문자열에서 N개의 연속된 요소 추출하는 방법\n",
    "text = 'hello'\n",
    "for i in range(len(text)-1):\n",
    "    print(text[i], text[i + 1], sep='')\n",
    "# 2 - gram"
   ]
  },
  {
   "cell_type": "code",
   "execution_count": 15,
   "id": "a2c4b3ad",
   "metadata": {},
   "outputs": [
    {
     "name": "stdout",
     "output_type": "stream",
     "text": [
      "this is\n",
      "is python\n",
      "python script\n"
     ]
    }
   ],
   "source": [
    "# 단어 단위 N-gram\n",
    "text = 'this is python script'\n",
    "words = text.split()     # 공백을 기준으로 문자열 분리해 리스트로 만듦\n",
    "\n",
    "for i in range(len(words)-1):\n",
    "    print(words[i], words[i + 1])"
   ]
  },
  {
   "cell_type": "code",
   "execution_count": 17,
   "id": "ef123029",
   "metadata": {},
   "outputs": [
    {
     "name": "stdout",
     "output_type": "stream",
     "text": [
      "he\n",
      "el\n",
      "ll\n",
      "lo\n"
     ]
    }
   ],
   "source": [
    "# zip 으로 2-gram 만들기\n",
    "text = 'hello'\n",
    "two_gram = zip(text,text[1:])     # zip 반복 가능한 객체의 각 요소를 튜플로 묶어줌\n",
    "for i in two_gram:\n",
    "    print(i[0], i[1], sep='')"
   ]
  },
  {
   "cell_type": "code",
   "execution_count": 18,
   "id": "3212f791",
   "metadata": {},
   "outputs": [
    {
     "data": {
      "text/plain": [
       "['hello', 'ello', 'llo']"
      ]
     },
     "execution_count": 18,
     "metadata": {},
     "output_type": "execute_result"
    }
   ],
   "source": [
    "# zip과 리스트 표현식으로 N-gram 만들기\n",
    "text = 'hello'\n",
    "[text[i:] for i in range(3)]"
   ]
  },
  {
   "cell_type": "code",
   "execution_count": 20,
   "id": "62935318",
   "metadata": {},
   "outputs": [
    {
     "data": {
      "text/plain": [
       "[('h', 'e', 'l'), ('e', 'l', 'l'), ('l', 'l', 'o')]"
      ]
     },
     "execution_count": 20,
     "metadata": {},
     "output_type": "execute_result"
    }
   ],
   "source": [
    "list(zip(*['hello', 'ello', 'llo']))"
   ]
  },
  {
   "cell_type": "code",
   "execution_count": null,
   "id": "2d60a14b",
   "metadata": {},
   "outputs": [],
   "source": []
  }
 ],
 "metadata": {
  "kernelspec": {
   "display_name": "Python 3 (ipykernel)",
   "language": "python",
   "name": "python3"
  },
  "language_info": {
   "codemirror_mode": {
    "name": "ipython",
    "version": 3
   },
   "file_extension": ".py",
   "mimetype": "text/x-python",
   "name": "python",
   "nbconvert_exporter": "python",
   "pygments_lexer": "ipython3",
   "version": "3.10.9"
  }
 },
 "nbformat": 4,
 "nbformat_minor": 5
}
