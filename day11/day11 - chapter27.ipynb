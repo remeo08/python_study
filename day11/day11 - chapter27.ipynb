{
 "cells": [
  {
   "cell_type": "code",
   "execution_count": 2,
   "id": "114d7f91",
   "metadata": {},
   "outputs": [],
   "source": [
    "# 27강 시작\n",
    "# 파일에 문자열 쓰기\n",
    "# 파일객체 = open(파일이름, 파일모드)\n",
    "file = open('hello.txt', 'w')   # hello.txt 파일을 쓰기 모드(w)로 열기"
   ]
  },
  {
   "cell_type": "code",
   "execution_count": 4,
   "id": "cb4167d7",
   "metadata": {},
   "outputs": [
    {
     "data": {
      "text/plain": [
       "13"
      ]
     },
     "execution_count": 4,
     "metadata": {},
     "output_type": "execute_result"
    }
   ],
   "source": [
    "# 파일객체.write('문자열')\n",
    "file.write('Hello, world!')"
   ]
  },
  {
   "cell_type": "code",
   "execution_count": 5,
   "id": "b96dee78",
   "metadata": {},
   "outputs": [],
   "source": [
    "# 파일객체.close()\n",
    "file.close()  # 파일객체 닫기"
   ]
  },
  {
   "cell_type": "code",
   "execution_count": 1,
   "id": "62823871",
   "metadata": {},
   "outputs": [],
   "source": [
    "# 파일에서 문자열 읽기\n",
    "# 변수 = 파일객체.read()\n",
    "file = open('hello.txt', 'r')   # hello.txt 파일을 읽기보드(r)로 열기"
   ]
  },
  {
   "cell_type": "code",
   "execution_count": 2,
   "id": "50da573e",
   "metadata": {},
   "outputs": [],
   "source": [
    "s = file.read()   # 파일에서 문자열 읽기"
   ]
  },
  {
   "cell_type": "code",
   "execution_count": 3,
   "id": "5d31ed96",
   "metadata": {},
   "outputs": [
    {
     "name": "stdout",
     "output_type": "stream",
     "text": [
      "Hello, world!\n"
     ]
    }
   ],
   "source": [
    "print(s)    # Hello, world!"
   ]
  },
  {
   "cell_type": "code",
   "execution_count": 4,
   "id": "38ecb3b0",
   "metadata": {},
   "outputs": [],
   "source": [
    "file.close()   # 파일 객체 닫기"
   ]
  },
  {
   "cell_type": "code",
   "execution_count": 5,
   "id": "858659a2",
   "metadata": {},
   "outputs": [
    {
     "name": "stdout",
     "output_type": "stream",
     "text": [
      "Hello, world!\n"
     ]
    }
   ],
   "source": [
    "# with as  : 파일 사용 뒤 자동으로 파일 객체 닫아줌\n",
    "# 형식: with open(파일이름, 파일모드) as 파일객체:\n",
    "#            코드\n",
    "with open('hello.txt', 'r') as file:\n",
    "    s = file.read()\n",
    "    print(s)"
   ]
  },
  {
   "cell_type": "code",
   "execution_count": 6,
   "id": "e6e18966",
   "metadata": {},
   "outputs": [],
   "source": [
    "# 파일에 문자열 여러 줄 쓰기/읽기\n",
    "# for 반복문으로 여러 줄 쓰기\n",
    "with open('hello.txt', 'w') as file:\n",
    "    for i in range(3):\n",
    "        file.write('Hello, world!{0}\\n'.format(i))  # \\n으로 줄바꿈"
   ]
  },
  {
   "cell_type": "code",
   "execution_count": 13,
   "id": "1e712542",
   "metadata": {},
   "outputs": [],
   "source": [
    "# 리스트에 들어있는 문자열 파일에 쓰기\n",
    "# 형식: 파일객체.writelines(문자열리스트)\n",
    "lines = ['Hello.\\n', '파이썬\\n', '코딩 도장입니다.\\n']\n",
    "with open('hello.txt','w') as file:\n",
    "    file.writelines(lines)"
   ]
  },
  {
   "cell_type": "code",
   "execution_count": 9,
   "id": "e2985747",
   "metadata": {},
   "outputs": [
    {
     "name": "stdout",
     "output_type": "stream",
     "text": [
      "['Hello.\\n', '파이썬코딩 도장입니다.\\n']\n"
     ]
    }
   ],
   "source": [
    "# 파일 내용 한 줄씩 리스트로 가져오기\n",
    "# 형식: 변수 = 파일객체.readlines()\n",
    "with open('hello.txt','r') as file:\n",
    "    lines = file.readlines()\n",
    "    print(lines)"
   ]
  },
  {
   "cell_type": "code",
   "execution_count": 12,
   "id": "16ea89a6",
   "metadata": {},
   "outputs": [
    {
     "name": "stdout",
     "output_type": "stream",
     "text": [
      "Hello.\n",
      "파이썬코딩 도장입니다.\n",
      "\n"
     ]
    }
   ],
   "source": [
    "# 파일 내용을 한 줄씩 읽기\n",
    "# 형식: 변수 = 파일객체.readlines() \n",
    "with open('hello.txt', 'r') as file:\n",
    "    line = None    # 변수 line none으로 초기화\n",
    "    while line != '':\n",
    "        line = file.readline()\n",
    "        print(line.strip('\\n'))   # 읽어온 문자열에서 \\n 삭제해 출력"
   ]
  },
  {
   "cell_type": "code",
   "execution_count": 14,
   "id": "0102942e",
   "metadata": {},
   "outputs": [
    {
     "name": "stdout",
     "output_type": "stream",
     "text": [
      "Hello.\n",
      "파이썬\n",
      "코딩 도장입니다.\n"
     ]
    }
   ],
   "source": [
    "# for 반복문으로 파일 줄단위로 읽기\n",
    "with open('hello.txt','r') as file:\n",
    "    for line in file:\n",
    "        print(line.strip('\\n'))"
   ]
  },
  {
   "cell_type": "code",
   "execution_count": 15,
   "id": "6b92928b",
   "metadata": {},
   "outputs": [
    {
     "data": {
      "text/plain": [
       "('Hello.\\n', '파이썬\\n', '코딩 도장입니다.\\n')"
      ]
     },
     "execution_count": 15,
     "metadata": {},
     "output_type": "execute_result"
    }
   ],
   "source": [
    "# 파일 객체는 이터레이터\n",
    "# 변수 여러 개에 저장하는 언패킹(unpacking) 가능\n",
    "file = open('hello.txt', 'r')\n",
    "a,b,c = file\n",
    "a,b,c"
   ]
  },
  {
   "cell_type": "code",
   "execution_count": 17,
   "id": "f6aa63f3",
   "metadata": {},
   "outputs": [],
   "source": [
    "# 파이썬 객체를 파일에 저장/가져오기\n",
    "# pickle모듈: 객체를 파일에 저장\n",
    "# 파이썬 객체를 파일에 저장하는 과정 : 피클링(pickling)\n",
    "# 파일에서 객체를 읽어오는 과정 : 언피클링(unpickling)\n",
    "import pickle\n",
    "name = 'james'\n",
    "age = 17\n",
    "address = '서울시 서초구 반포동'\n",
    "scores = {'korean': 90, 'english': 95,'mathematics':85, 'science':82}\n",
    "with open ('james.p', 'wb') as file:      # .p => pickle의 p 확장자 사용  , 바이너리 쓰기 모드(wb)\n",
    "    # 바이너리 파일 : 컴퓨터가 처리하는 파일 형식\n",
    "    pickle.dump(name, file)\n",
    "    pickle.dump(age, file)\n",
    "    pickle.dump(address, file)\n",
    "    pickle.dump(scores, file)"
   ]
  },
  {
   "cell_type": "code",
   "execution_count": 18,
   "id": "bee504a5",
   "metadata": {},
   "outputs": [
    {
     "name": "stdout",
     "output_type": "stream",
     "text": [
      "james\n",
      "17\n",
      "서울시 서초구 반포동\n",
      "{'korean': 90, 'english': 95, 'mathematics': 85, 'science': 82}\n"
     ]
    }
   ],
   "source": [
    "# 파일에서 파이썬 객체 읽기\n",
    "# 언피클링 : pickle 모듈의 load 사용, 파일모드 반드시 바이너리 읽기 모드 'rb'\n",
    "import pickle\n",
    "with open('james.p', 'rb') as file:\n",
    "    name = pickle.load(file)\n",
    "    age = pickle.load(file)\n",
    "    address = pickle.load(file)\n",
    "    scores = pickle.load(file)\n",
    "print(name)\n",
    "print(age)\n",
    "print(address)\n",
    "print(scores)\n"
   ]
  },
  {
   "cell_type": "code",
   "execution_count": 2,
   "id": "0ab61e96",
   "metadata": {},
   "outputs": [],
   "source": [
    "# 27.5 연습문제\n",
    "file = open('words.txt', 'w')"
   ]
  },
  {
   "cell_type": "code",
   "execution_count": 3,
   "id": "6e66de88",
   "metadata": {},
   "outputs": [
    {
     "data": {
      "text/plain": [
       "78"
      ]
     },
     "execution_count": 3,
     "metadata": {},
     "output_type": "execute_result"
    }
   ],
   "source": [
    "file.write('anonymously\\ncompatibility\\ndashboard\\nexperience\\nphotography\\nspotlight\\nwarehouse')"
   ]
  },
  {
   "cell_type": "code",
   "execution_count": 4,
   "id": "9163de2c",
   "metadata": {},
   "outputs": [],
   "source": [
    "file.close()"
   ]
  },
  {
   "cell_type": "code",
   "execution_count": 5,
   "id": "d53c6424",
   "metadata": {},
   "outputs": [
    {
     "name": "stdout",
     "output_type": "stream",
     "text": [
      "4\n"
     ]
    }
   ],
   "source": [
    "with open('words.txt', 'r') as file:\n",
    "    count = 0\n",
    "    words = file.readlines()\n",
    "    for word in words:\n",
    "        if len(word.strip('\\n')) <= 10:\n",
    "            count += 1\n",
    "    print(count)"
   ]
  }
 ],
 "metadata": {
  "kernelspec": {
   "display_name": "Python 3 (ipykernel)",
   "language": "python",
   "name": "python3"
  },
  "language_info": {
   "codemirror_mode": {
    "name": "ipython",
    "version": 3
   },
   "file_extension": ".py",
   "mimetype": "text/x-python",
   "name": "python",
   "nbconvert_exporter": "python",
   "pygments_lexer": "ipython3",
   "version": "3.10.11"
  }
 },
 "nbformat": 4,
 "nbformat_minor": 5
}
