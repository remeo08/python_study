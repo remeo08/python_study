{
 "cells": [
  {
   "cell_type": "code",
   "execution_count": 1,
   "id": "2017fe82",
   "metadata": {},
   "outputs": [
    {
     "name": "stdout",
     "output_type": "stream",
     "text": [
      "10\n",
      "10\n"
     ]
    }
   ],
   "source": [
    "# 클로저\n",
    "# 변수의 사용 범위\n",
    "# 파이썬에서 변수를 만들면 함수 안에서도 사용 가능\n",
    "# 스크립트 전체에 접근할 수 있는 변수 = 전역 변수(global variable)\n",
    "# 전역 변수에 접근할 수 있는 범위 = 전역 범위(global scope)\n",
    "\n",
    "x = 10\n",
    "def foo():\n",
    "    print(x)\n",
    "\n",
    "foo()\n",
    "print(x)"
   ]
  },
  {
   "cell_type": "code",
   "execution_count": 3,
   "id": "36bb747a",
   "metadata": {},
   "outputs": [
    {
     "name": "stdout",
     "output_type": "stream",
     "text": [
      "10\n"
     ]
    },
    {
     "ename": "NameError",
     "evalue": "name 'a' is not defined",
     "output_type": "error",
     "traceback": [
      "\u001b[1;31m---------------------------------------------------------------------------\u001b[0m",
      "\u001b[1;31mNameError\u001b[0m                                 Traceback (most recent call last)",
      "Cell \u001b[1;32mIn[3], line 6\u001b[0m\n\u001b[0;32m      3\u001b[0m     \u001b[38;5;28mprint\u001b[39m(a)\n\u001b[0;32m      5\u001b[0m foo()\n\u001b[1;32m----> 6\u001b[0m \u001b[38;5;28mprint\u001b[39m(\u001b[43ma\u001b[49m)\n",
      "\u001b[1;31mNameError\u001b[0m: name 'a' is not defined"
     ]
    }
   ],
   "source": [
    "# foo 함수 안에 a 변수를 만들면, a가 정의되지 않았다는 에러 발생\n",
    "# a는 함수 foo 안에서 만들어진 foo의 지역 변수(local variable)이기 때문\n",
    "# 지역 변수에 접근할 수 있는 지역 범위(local scope)는 def foo(): 에서 print(a)까지임.\n",
    "\n",
    "def foo():\n",
    "    a = 10\n",
    "    print(a)\n",
    "    \n",
    "foo()\n",
    "print(a)"
   ]
  },
  {
   "cell_type": "code",
   "execution_count": 6,
   "id": "601fface",
   "metadata": {},
   "outputs": [
    {
     "name": "stdout",
     "output_type": "stream",
     "text": [
      "20\n",
      "10\n"
     ]
    }
   ],
   "source": [
    "# 함수 안에서 전역 변수 변경하기\n",
    "# foo() 안의 x는 실제로는 지역 변수임, foo에서 지역변수 x 로 전역변수와 이름만 같고 서로 다른 변수를 만든 것.\n",
    "\n",
    "x = 10\n",
    "def foo():\n",
    "    x = 20\n",
    "    print(x)\n",
    "    \n",
    "foo()\n",
    "print(x)"
   ]
  },
  {
   "cell_type": "code",
   "execution_count": 7,
   "id": "99f84a3f",
   "metadata": {},
   "outputs": [
    {
     "name": "stdout",
     "output_type": "stream",
     "text": [
      "20\n",
      "20\n"
     ]
    }
   ],
   "source": [
    "# 함수 안에서 전역 변수의 값을 변경하려면 global 키워드를 사용해야 함.\n",
    "# global 전역변수\n",
    "\n",
    "x = 10\n",
    "def foo():\n",
    "    global x  # 전역 변수 x를 사용하겠다고 설정\n",
    "\n",
    "    x = 20\n",
    "    print(x)\n",
    "    \n",
    "foo()\n",
    "print(x)"
   ]
  },
  {
   "cell_type": "code",
   "execution_count": 9,
   "id": "482b9d5e",
   "metadata": {},
   "outputs": [
    {
     "name": "stdout",
     "output_type": "stream",
     "text": [
      "20\n",
      "20\n"
     ]
    }
   ],
   "source": [
    "# 전역 변수가 없을 때 함수 안에서 global 을 사용하면 해당 변수는 전역 변수가 됨.\n",
    "\n",
    "# 전역 변수 x가 없는 상태\n",
    "def foo():\n",
    "    global x\n",
    "    x = 20\n",
    "    print(x)\n",
    "    \n",
    "foo()\n",
    "print(x)"
   ]
  },
  {
   "cell_type": "code",
   "execution_count": 10,
   "id": "f87f4588",
   "metadata": {},
   "outputs": [
    {
     "name": "stdout",
     "output_type": "stream",
     "text": [
      "Hello, world!\n"
     ]
    }
   ],
   "source": [
    "# 함수 안에서 함수 만들기\n",
    "# 형식:\n",
    "# def 함수이름1():\n",
    "#     코드\n",
    "#     def 함수이름2():\n",
    "#         코드\n",
    "\n",
    "def print_hello():\n",
    "    hello = \"Hello, world!\"\n",
    "    def print_message():\n",
    "        print(hello)\n",
    "    print_message()\n",
    "    \n",
    "print_hello()"
   ]
  },
  {
   "cell_type": "code",
   "execution_count": 11,
   "id": "197005a0",
   "metadata": {},
   "outputs": [
    {
     "name": "stdout",
     "output_type": "stream",
     "text": [
      "Hello, world!\n"
     ]
    }
   ],
   "source": [
    "# 지역 변수의 범위\n",
    "def print_hello():\n",
    "    hello = \"Hello, world!\"\n",
    "    def print_message():\n",
    "        print(hello)\n",
    "    print_message()\n",
    "    \n",
    "print_hello()\n",
    "\n",
    "# 여기에서 바깥쪽 함수 print_hello의 지역 변수는 안쪽에 속한 모든 함수(print_message)에서 접근할 수 있다.\n"
   ]
  },
  {
   "cell_type": "code",
   "execution_count": 18,
   "id": "f0ea60ff",
   "metadata": {},
   "outputs": [
    {
     "name": "stdout",
     "output_type": "stream",
     "text": [
      "20\n"
     ]
    }
   ],
   "source": [
    "# 바깥 함수의 지역 변수를 안쪽 함수에서 변경하기\n",
    "# nonlocal 지역변수\n",
    "# nonlocal은 현재 함수의 지역변수가 아니라는 뜻\n",
    "def A():\n",
    "    x = 10\n",
    "    def B():\n",
    "        nonlocal x\n",
    "        x = 20\n",
    "        \n",
    "    B()\n",
    "    print(x)\n",
    "A()"
   ]
  },
  {
   "cell_type": "code",
   "execution_count": 19,
   "id": "d2cd92b2",
   "metadata": {},
   "outputs": [
    {
     "name": "stdout",
     "output_type": "stream",
     "text": [
      "50\n",
      "400\n"
     ]
    }
   ],
   "source": [
    "# nonlocal이 변수 찾는 순서\n",
    "def A():\n",
    "    x = 10\n",
    "    y = 100\n",
    "    def B():\n",
    "        x = 20\n",
    "        def C():\n",
    "            nonlocal x\n",
    "            nonlocal y\n",
    "            x = x + 30\n",
    "            y = y + 300\n",
    "            print(x)\n",
    "            print(y)\n",
    "        C()\n",
    "    B()\n",
    "A()\n",
    "\n",
    "# nonlocal 이 사용된 함수에서 가까운 함수부터\n",
    "# 함수 c에서 nonlocal y를 사용하면 함수 b의 지역 변수 y를 사용해야 하나, 함수 b에는 지역변수 y가 없으므로 함수 a의 지역 변수 y를 사용하게 됨."
   ]
  },
  {
   "cell_type": "code",
   "execution_count": 20,
   "id": "861afca0",
   "metadata": {},
   "outputs": [
    {
     "name": "stdout",
     "output_type": "stream",
     "text": [
      "31\n"
     ]
    }
   ],
   "source": [
    "# global로 전역 변수 사용하기\n",
    "# global 키워드를 사용하면 무조건 전역 변수를 사용하게 된다.\n",
    "\n",
    "x = 1\n",
    "def A():\n",
    "    x = 10\n",
    "    def B():\n",
    "        x = 20\n",
    "        def C():\n",
    "            global x   # A()의 x = 10 을 사용.\n",
    "            x = x + 30\n",
    "            print(x)\n",
    "        C()\n",
    "    B()\n",
    "    \n",
    "A()"
   ]
  },
  {
   "cell_type": "code",
   "execution_count": 22,
   "id": "a81eaacf",
   "metadata": {},
   "outputs": [
    {
     "name": "stdout",
     "output_type": "stream",
     "text": [
      "8 11 14 17 20\n"
     ]
    }
   ],
   "source": [
    "# 클로저\n",
    "# 함수를 클로저 형태로 만드는 방법\n",
    "def calc():\n",
    "    a = 3\n",
    "    b = 5\n",
    "    def mul_add(x):\n",
    "        return a * x + b\n",
    "    return mul_add    # return으로 함수 자체를 반환함. 함수 반화할 땐 괄호 없이 함수 이름만 반환해야 함.\n",
    "\n",
    "c = calc()   # 함수 calc를 호출한 뒤 반환값을 c에 저장.\n",
    "# calc에서 mul_add를 반환했으므로 c에는 함수 mul_add가 들어감.\n",
    "print(c(1), c(2), c(3), c(4), c(5))   # c에 함수가 들어갔기 때문에 c(숫자)처럼 함수 호출로 쓰인 것.\n",
    "\n",
    "\n",
    "# 함수 calc가 끝났는데도 c는 calc의 지역변수 a = 3, b = 5를 사용해 계산함.\n",
    "# 클로저: 함수를 둘러싼 환경을 계속 유지하다가, 함수 호출할 때 다시 꺼내 사용하는 함수\n",
    "# 여기서는 c에 저장된 함수가 클로저"
   ]
  },
  {
   "cell_type": "code",
   "execution_count": 23,
   "id": "a9d4ab56",
   "metadata": {},
   "outputs": [
    {
     "name": "stdout",
     "output_type": "stream",
     "text": [
      "8 11 14 17 20\n"
     ]
    }
   ],
   "source": [
    "# lambda로 클로저 만들기 -> 더 간단해짐\n",
    "# 보통 클로저는 람다 표현식과 함께 사용되는 경우가 많음.\n",
    "# 람다 : 이름 없는 익명 함수\n",
    "# 클로저 : 함수 둘러싼 함수 유지했다가 다시 사용하는 함수\n",
    "\n",
    "def calc():\n",
    "    a = 3\n",
    "    b = 5\n",
    "    return lambda x: a*x+b\n",
    "\n",
    "c = calc()\n",
    "print(c(1), c(2), c(3), c(4), c(5))"
   ]
  },
  {
   "cell_type": "code",
   "execution_count": 24,
   "id": "81cbc0f7",
   "metadata": {},
   "outputs": [
    {
     "name": "stdout",
     "output_type": "stream",
     "text": [
      "8\n",
      "19\n",
      "33\n"
     ]
    }
   ],
   "source": [
    "# 클로저의 지역 변수 변경\n",
    "def calc():\n",
    "    a = 3\n",
    "    b = 5\n",
    "    total = 0\n",
    "    def mul_add(x):\n",
    "        nonlocal total\n",
    "        total = total + a * x + b\n",
    "        print(total)\n",
    "    return mul_add\n",
    "\n",
    "c = calc()\n",
    "c(1)\n",
    "c(2)\n",
    "c(3)"
   ]
  },
  {
   "cell_type": "code",
   "execution_count": null,
   "id": "13948e41",
   "metadata": {},
   "outputs": [],
   "source": []
  }
 ],
 "metadata": {
  "kernelspec": {
   "display_name": "Python 3 (ipykernel)",
   "language": "python",
   "name": "python3"
  },
  "language_info": {
   "codemirror_mode": {
    "name": "ipython",
    "version": 3
   },
   "file_extension": ".py",
   "mimetype": "text/x-python",
   "name": "python",
   "nbconvert_exporter": "python",
   "pygments_lexer": "ipython3",
   "version": "3.10.9"
  }
 },
 "nbformat": 4,
 "nbformat_minor": 5
}
