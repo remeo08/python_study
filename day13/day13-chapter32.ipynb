{
 "cells": [
  {
   "cell_type": "code",
   "execution_count": 1,
   "id": "54da5d26",
   "metadata": {},
   "outputs": [
    {
     "data": {
      "text/plain": [
       "<function __main__.<lambda>(x)>"
      ]
     },
     "execution_count": 1,
     "metadata": {},
     "output_type": "execute_result"
    }
   ],
   "source": [
    "# 32강 시작\n",
    "# 람다 표현식(익명 함수) -> 이름이 없는 함수를 만든다\n",
    "# lambda 매개변수 : 반환값으로 사용할 식 지정\n",
    "lambda x: x + 10"
   ]
  },
  {
   "cell_type": "code",
   "execution_count": 2,
   "id": "ece2b084",
   "metadata": {},
   "outputs": [
    {
     "data": {
      "text/plain": [
       "11"
      ]
     },
     "execution_count": 2,
     "metadata": {},
     "output_type": "execute_result"
    }
   ],
   "source": [
    "# 람다로 만든 익명 함수를 호출하려면\n",
    "plus_ten = lambda x: x +10\n",
    "plus_ten(1)"
   ]
  },
  {
   "cell_type": "code",
   "execution_count": 3,
   "id": "7b748a26",
   "metadata": {},
   "outputs": [
    {
     "data": {
      "text/plain": [
       "11"
      ]
     },
     "execution_count": 3,
     "metadata": {},
     "output_type": "execute_result"
    }
   ],
   "source": [
    "# 람다 표현식 자체를 호출하기\n",
    "# 형식:  (lambda 매개변수들: 식)(인수들)\n",
    "(lambda x: x + 10)(1)"
   ]
  },
  {
   "cell_type": "code",
   "execution_count": 5,
   "id": "358451b9",
   "metadata": {},
   "outputs": [
    {
     "data": {
      "text/plain": [
       "11"
      ]
     },
     "execution_count": 5,
     "metadata": {},
     "output_type": "execute_result"
    }
   ],
   "source": [
    "# 람다 표현식 안에서는 새 변수를 만들 수 없다.\n",
    "# 단, 람다 표혀식 바깥에 있는 변수는 사용할 수 있다.\n",
    "y = 10\n",
    "(lambda x: x + y)(1)"
   ]
  },
  {
   "cell_type": "code",
   "execution_count": 6,
   "id": "13d59f00",
   "metadata": {},
   "outputs": [
    {
     "data": {
      "text/plain": [
       "[11, 12, 13]"
      ]
     },
     "execution_count": 6,
     "metadata": {},
     "output_type": "execute_result"
    }
   ],
   "source": [
    "# 람다 표현식 활용도: 함수의 인수 부분에서 간단하게 함수 만들기 위해서\n",
    "# 대표적인 예, map\n",
    "def plus_ten(x):\n",
    "    return x + 10\n",
    "list(map(plus_ten, [1,2,3]))"
   ]
  },
  {
   "cell_type": "code",
   "execution_count": 7,
   "id": "5cc2974a",
   "metadata": {},
   "outputs": [
    {
     "data": {
      "text/plain": [
       "[1, 2, '3', 4, 5, '6', 7, 8, '9', 10]"
      ]
     },
     "execution_count": 7,
     "metadata": {},
     "output_type": "execute_result"
    }
   ],
   "source": [
    "# 람다 표현식에 조건부 표현식 사용하기\n",
    "# 형식: lambda 매개변수들: 식1 if 조건식 else 식2\n",
    "# elif는 사용할 수 없다.\n",
    "a = [1,2,3,4,5,6,7,8,9,10]\n",
    "list(map(lambda x: str(x) if x % 3 == 0 else x, a))"
   ]
  },
  {
   "cell_type": "code",
   "execution_count": 9,
   "id": "36088182",
   "metadata": {},
   "outputs": [
    {
     "data": {
      "text/plain": [
       "['1', 2.0, 13, 14, 15, 16, 17, 18, 19, 20]"
      ]
     },
     "execution_count": 9,
     "metadata": {},
     "output_type": "execute_result"
    }
   ],
   "source": [
    "# 람다 표현식에서 조건부 표현식\n",
    "# 형식: lambda 매개변수들: 식1 if 조건식1 else 식2 if 조건식2 else 식3\n",
    "# 하지만 괜히 복잡해 보이므로 def if문 만드는 것을 추천\n",
    "a = [1,2,3,4,5,6,7,8,9,10]\n",
    "list(map(lambda x: str(x) if x == 1 else float(x) if x == 2 else x + 10, a))"
   ]
  },
  {
   "cell_type": "code",
   "execution_count": 10,
   "id": "f38e6a62",
   "metadata": {},
   "outputs": [
    {
     "data": {
      "text/plain": [
       "[2, 8, 18, 32, 50]"
      ]
     },
     "execution_count": 10,
     "metadata": {},
     "output_type": "execute_result"
    }
   ],
   "source": [
    "# map에 객체 여러 개 넣기\n",
    "a = [1,2,3,4,5]\n",
    "b = [2,4,6,8,10]\n",
    "list (map(lambda x, y: x * y, a, b))"
   ]
  },
  {
   "cell_type": "code",
   "execution_count": 12,
   "id": "5de350f3",
   "metadata": {},
   "outputs": [
    {
     "data": {
      "text/plain": [
       "[8, 7, 9]"
      ]
     },
     "execution_count": 12,
     "metadata": {},
     "output_type": "execute_result"
    }
   ],
   "source": [
    "# filter 사용하기\n",
    "#  filter는 반복 가능한 객체에서 특정 조건에 맞는 요소만 가져옴\n",
    "def f(x):\n",
    "    return x > 5 and x < 10\n",
    "\n",
    "a = [8,3,2,10,15,7,1,9,0,11]\n",
    "list(filter(f,a))"
   ]
  },
  {
   "cell_type": "code",
   "execution_count": 14,
   "id": "b6b22bf2",
   "metadata": {},
   "outputs": [
    {
     "data": {
      "text/plain": [
       "[8, 7, 9]"
      ]
     },
     "execution_count": 14,
     "metadata": {},
     "output_type": "execute_result"
    }
   ],
   "source": [
    "a = [8,3,2,10,15,7,1,9,0,11]\n",
    "list(filter(lambda x: x > 5 and x < 10, a))"
   ]
  },
  {
   "cell_type": "code",
   "execution_count": 15,
   "id": "a17972e0",
   "metadata": {},
   "outputs": [
    {
     "data": {
      "text/plain": [
       "15"
      ]
     },
     "execution_count": 15,
     "metadata": {},
     "output_type": "execute_result"
    }
   ],
   "source": [
    "# reduce\n",
    "# 함수로 처리한 뒤 이전 결과와 누적해서 반환하는 함수\n",
    "# 내장 함수가 아니라서 가져와야 함\n",
    "# 형식: from functools import reduce\n",
    "# resuce(함수, 반복가능한객체)\n",
    "\n",
    "def f(x, y):\n",
    "    return x + y\n",
    "\n",
    "a = [1,2,3,4,5]\n",
    "from functools import reduce\n",
    "reduce(f,a)"
   ]
  },
  {
   "cell_type": "code",
   "execution_count": 16,
   "id": "fdbdb04c",
   "metadata": {},
   "outputs": [
    {
     "data": {
      "text/plain": [
       "15"
      ]
     },
     "execution_count": 16,
     "metadata": {},
     "output_type": "execute_result"
    }
   ],
   "source": [
    "a = [1,2,3,4,5]\n",
    "from functools import reduce\n",
    "reduce(lambda x, y: x + y,a)"
   ]
  },
  {
   "cell_type": "code",
   "execution_count": null,
   "id": "f31280ff",
   "metadata": {},
   "outputs": [],
   "source": []
  }
 ],
 "metadata": {
  "kernelspec": {
   "display_name": "Python 3 (ipykernel)",
   "language": "python",
   "name": "python3"
  },
  "language_info": {
   "codemirror_mode": {
    "name": "ipython",
    "version": 3
   },
   "file_extension": ".py",
   "mimetype": "text/x-python",
   "name": "python",
   "nbconvert_exporter": "python",
   "pygments_lexer": "ipython3",
   "version": "3.10.9"
  }
 },
 "nbformat": 4,
 "nbformat_minor": 5
}
